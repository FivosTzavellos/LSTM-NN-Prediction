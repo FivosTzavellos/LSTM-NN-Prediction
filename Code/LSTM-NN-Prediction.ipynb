{
  "nbformat": 4,
  "nbformat_minor": 0,
  "metadata": {
    "accelerator": "GPU",
    "colab": {
      "name": "Class_2_Final_Google_Collab_Project_Neural.ipynb",
      "provenance": [],
      "collapsed_sections": []
    },
    "kernelspec": {
      "display_name": "Python 3",
      "language": "python",
      "name": "python3"
    },
    "language_info": {
      "codemirror_mode": {
        "name": "ipython",
        "version": 3
      },
      "file_extension": ".py",
      "mimetype": "text/x-python",
      "name": "python",
      "nbconvert_exporter": "python",
      "pygments_lexer": "ipython3",
      "version": "3.7.6"
    }
  },
  "cells": [
    {
      "cell_type": "code",
      "metadata": {
        "colab_type": "code",
        "id": "9tqDXvakwAV7",
        "colab": {}
      },
      "source": [
        "#General Libraries\n",
        "\n",
        "import pandas as pd\n",
        "import numpy as np\n",
        "import matplotlib.pyplot as plt\n",
        "from math import *\n",
        "from time import *\n",
        "\n",
        "\n",
        "from sklearn.preprocessing import OneHotEncoder\n",
        "\n",
        "\n",
        "#To print out more decimal places and not in scientific notation\n",
        "\n",
        "np.set_printoptions(precision=100,suppress=True)\n",
        "\n",
        "\n",
        "#For LSTM\n",
        "\n",
        "import keras\n",
        "from keras.models import Sequential\n",
        "from keras.layers import LSTM\n",
        "from keras.layers import Dense\n",
        "\n"
      ],
      "execution_count": 3,
      "outputs": []
    },
    {
      "cell_type": "code",
      "metadata": {
        "colab_type": "code",
        "id": "cVHlMZ1A0R7V",
        "colab": {
          "base_uri": "https://localhost:8080/",
          "height": 419
        },
        "outputId": "ca9f9334-c883-4c86-8a03-1be232981180"
      },
      "source": [
        "#Load the training dataset\n",
        "\n",
        "df_train = pd.read_excel('memrefs_train_andor_validate.xlsx', header = None)\n",
        "df_train"
      ],
      "execution_count": 4,
      "outputs": [
        {
          "output_type": "execute_result",
          "data": {
            "text/html": [
              "<div>\n",
              "<style scoped>\n",
              "    .dataframe tbody tr th:only-of-type {\n",
              "        vertical-align: middle;\n",
              "    }\n",
              "\n",
              "    .dataframe tbody tr th {\n",
              "        vertical-align: top;\n",
              "    }\n",
              "\n",
              "    .dataframe thead th {\n",
              "        text-align: right;\n",
              "    }\n",
              "</style>\n",
              "<table border=\"1\" class=\"dataframe\">\n",
              "  <thead>\n",
              "    <tr style=\"text-align: right;\">\n",
              "      <th></th>\n",
              "      <th>0</th>\n",
              "    </tr>\n",
              "  </thead>\n",
              "  <tbody>\n",
              "    <tr>\n",
              "      <th>0</th>\n",
              "      <td>0xbfb22b18</td>\n",
              "    </tr>\n",
              "    <tr>\n",
              "      <th>1</th>\n",
              "      <td>0xbfb22b14</td>\n",
              "    </tr>\n",
              "    <tr>\n",
              "      <th>2</th>\n",
              "      <td>0xbfb22b10</td>\n",
              "    </tr>\n",
              "    <tr>\n",
              "      <th>3</th>\n",
              "      <td>0xbfb22b0c</td>\n",
              "    </tr>\n",
              "    <tr>\n",
              "      <th>4</th>\n",
              "      <td>0xbfb22b18</td>\n",
              "    </tr>\n",
              "    <tr>\n",
              "      <th>...</th>\n",
              "      <td>...</td>\n",
              "    </tr>\n",
              "    <tr>\n",
              "      <th>399995</th>\n",
              "      <td>0xbfb22978</td>\n",
              "    </tr>\n",
              "    <tr>\n",
              "      <th>399996</th>\n",
              "      <td>0xbfb22974</td>\n",
              "    </tr>\n",
              "    <tr>\n",
              "      <th>399997</th>\n",
              "      <td>0xbfb22980</td>\n",
              "    </tr>\n",
              "    <tr>\n",
              "      <th>399998</th>\n",
              "      <td>0xbfb22970</td>\n",
              "    </tr>\n",
              "    <tr>\n",
              "      <th>399999</th>\n",
              "      <td>0xbfb2296c</td>\n",
              "    </tr>\n",
              "  </tbody>\n",
              "</table>\n",
              "<p>400000 rows × 1 columns</p>\n",
              "</div>"
            ],
            "text/plain": [
              "                 0\n",
              "0       0xbfb22b18\n",
              "1       0xbfb22b14\n",
              "2       0xbfb22b10\n",
              "3       0xbfb22b0c\n",
              "4       0xbfb22b18\n",
              "...            ...\n",
              "399995  0xbfb22978\n",
              "399996  0xbfb22974\n",
              "399997  0xbfb22980\n",
              "399998  0xbfb22970\n",
              "399999  0xbfb2296c\n",
              "\n",
              "[400000 rows x 1 columns]"
            ]
          },
          "metadata": {
            "tags": []
          },
          "execution_count": 4
        }
      ]
    },
    {
      "cell_type": "code",
      "metadata": {
        "colab_type": "code",
        "id": "NJaFQni12EdH",
        "colab": {
          "base_uri": "https://localhost:8080/",
          "height": 221
        },
        "outputId": "8107c354-8b93-429b-b890-44ac086fc380"
      },
      "source": [
        "#Turn them into integers \n",
        "\n",
        "res = df_train[0].apply(int, base=16)\n",
        "print(res)\n"
      ],
      "execution_count": 5,
      "outputs": [
        {
          "output_type": "stream",
          "text": [
            "0         3216124696\n",
            "1         3216124692\n",
            "2         3216124688\n",
            "3         3216124684\n",
            "4         3216124696\n",
            "             ...    \n",
            "399995    3216124280\n",
            "399996    3216124276\n",
            "399997    3216124288\n",
            "399998    3216124272\n",
            "399999    3216124268\n",
            "Name: 0, Length: 400000, dtype: int64\n"
          ],
          "name": "stdout"
        }
      ]
    },
    {
      "cell_type": "code",
      "metadata": {
        "id": "-bRwcaPxMRC-",
        "colab_type": "code",
        "colab": {
          "base_uri": "https://localhost:8080/",
          "height": 221
        },
        "outputId": "005d972a-d489-49b3-b652-a183ade63d62"
      },
      "source": [
        "#RAM was not enough (it needed 91 GB) when we were running the one-hot-encode so we had to trim the dataset down to 51000 values\n",
        "\n",
        "dropping_len = 51000\n",
        "res = res[:dropping_len]\n",
        "res\n",
        "\n"
      ],
      "execution_count": 6,
      "outputs": [
        {
          "output_type": "execute_result",
          "data": {
            "text/plain": [
              "0        3216124696\n",
              "1        3216124692\n",
              "2        3216124688\n",
              "3        3216124684\n",
              "4        3216124696\n",
              "            ...    \n",
              "50995    3216124288\n",
              "50996    3216124264\n",
              "50997     136511232\n",
              "50998     136511276\n",
              "50999    3216124288\n",
              "Name: 0, Length: 51000, dtype: int64"
            ]
          },
          "metadata": {
            "tags": []
          },
          "execution_count": 6
        }
      ]
    },
    {
      "cell_type": "code",
      "metadata": {
        "colab_type": "code",
        "id": "Z4CXbWE_2Ezi",
        "colab": {
          "base_uri": "https://localhost:8080/",
          "height": 34
        },
        "outputId": "cab719be-3ab2-4407-d667-c14d387ee392"
      },
      "source": [
        "training_data_len = ceil( len(res) *.8)\n",
        "training_data_len"
      ],
      "execution_count": 7,
      "outputs": [
        {
          "output_type": "execute_result",
          "data": {
            "text/plain": [
              "40800"
            ]
          },
          "metadata": {
            "tags": []
          },
          "execution_count": 7
        }
      ]
    },
    {
      "cell_type": "code",
      "metadata": {
        "colab_type": "code",
        "id": "I8cSot0p2FAu",
        "colab": {
          "base_uri": "https://localhost:8080/",
          "height": 34
        },
        "outputId": "d8d795cf-291b-4dae-b459-a5fa09e5955d"
      },
      "source": [
        "testing_data_len = len(res) - training_data_len\n",
        "testing_data_len"
      ],
      "execution_count": 8,
      "outputs": [
        {
          "output_type": "execute_result",
          "data": {
            "text/plain": [
              "10200"
            ]
          },
          "metadata": {
            "tags": []
          },
          "execution_count": 8
        }
      ]
    },
    {
      "cell_type": "code",
      "metadata": {
        "colab_type": "code",
        "id": "avkv5rnp2pHM",
        "colab": {
          "base_uri": "https://localhost:8080/",
          "height": 34
        },
        "outputId": "a5984d3a-a473-4c48-bedc-d70e9fcfcbdc"
      },
      "source": [
        "training_set = np.array(res)\n",
        "np.shape(training_set)"
      ],
      "execution_count": 9,
      "outputs": [
        {
          "output_type": "execute_result",
          "data": {
            "text/plain": [
              "(51000,)"
            ]
          },
          "metadata": {
            "tags": []
          },
          "execution_count": 9
        }
      ]
    },
    {
      "cell_type": "code",
      "metadata": {
        "colab_type": "code",
        "id": "2MHg12d_uPUz",
        "colab": {}
      },
      "source": [
        "#Make a list that contains the differences between the previous and the current number (it has one less element than the training_set array)\n",
        "\n",
        "diff = list()\n",
        "for i in range(1, len(training_set)):\n",
        "    value = training_set[i] - training_set[i - 1]\n",
        "    diff.append(value)"
      ],
      "execution_count": 10,
      "outputs": []
    },
    {
      "cell_type": "code",
      "metadata": {
        "colab_type": "code",
        "id": "sY2t85gJG9cZ",
        "colab": {
          "base_uri": "https://localhost:8080/",
          "height": 221
        },
        "outputId": "1e29500b-11c3-4d6c-9b25-6e880fe02516"
      },
      "source": [
        "diff =  pd.Series(diff) \n",
        "diff"
      ],
      "execution_count": 11,
      "outputs": [
        {
          "output_type": "execute_result",
          "data": {
            "text/plain": [
              "0                -4\n",
              "1                -4\n",
              "2                -4\n",
              "3                12\n",
              "4                -4\n",
              "            ...    \n",
              "50994            24\n",
              "50995           -24\n",
              "50996   -3079613032\n",
              "50997            44\n",
              "50998    3079613012\n",
              "Length: 50999, dtype: int64"
            ]
          },
          "metadata": {
            "tags": []
          },
          "execution_count": 11
        }
      ]
    },
    {
      "cell_type": "code",
      "metadata": {
        "id": "Tqh523ShMRDP",
        "colab_type": "code",
        "colab": {
          "base_uri": "https://localhost:8080/",
          "height": 34
        },
        "outputId": "bcfd81fa-2866-42c9-f33f-3b37444df6ba"
      },
      "source": [
        "np.shape(diff)"
      ],
      "execution_count": 12,
      "outputs": [
        {
          "output_type": "execute_result",
          "data": {
            "text/plain": [
              "(50999,)"
            ]
          },
          "metadata": {
            "tags": []
          },
          "execution_count": 12
        }
      ]
    },
    {
      "cell_type": "code",
      "metadata": {
        "colab_type": "code",
        "id": "kL4TTzdfGyvQ",
        "colab": {
          "base_uri": "https://localhost:8080/",
          "height": 884
        },
        "outputId": "05137258-6e72-449a-eec1-e93dc6a388d8"
      },
      "source": [
        "#Display which ones are the most frequent difference values we have\n",
        "\n",
        "values_count = diff.value_counts()\n",
        "values_count.head(50)"
      ],
      "execution_count": 13,
      "outputs": [
        {
          "output_type": "execute_result",
          "data": {
            "text/plain": [
              " 4             7802\n",
              "-4             7340\n",
              " 0             4706\n",
              "-8             1619\n",
              " 12            1026\n",
              "-12             972\n",
              " 72             920\n",
              " 88             892\n",
              " 16             846\n",
              " 8              694\n",
              " 20             680\n",
              "-32             616\n",
              "-80             476\n",
              " 84             452\n",
              "-152            449\n",
              " 3079614696     445\n",
              "-3079682104     444\n",
              " 3079682100     444\n",
              "-3079614864     444\n",
              "-3079682028     437\n",
              "-161745640      437\n",
              " 163196680      437\n",
              "-1451040        437\n",
              " 3079682024     437\n",
              "-163196684      437\n",
              " 28             436\n",
              " 1              412\n",
              " 24             361\n",
              "-16             288\n",
              " 40             222\n",
              " 32             177\n",
              "-28             157\n",
              "-24             152\n",
              " 1263439        142\n",
              " 44             140\n",
              "-20             135\n",
              "-36             127\n",
              "-124            121\n",
              " 124            117\n",
              " 36             113\n",
              " 78              87\n",
              " 60              84\n",
              "-40              80\n",
              "-56              78\n",
              "-76              77\n",
              " 1263313         76\n",
              "-1700            68\n",
              " 48              68\n",
              " 1263471         66\n",
              " 1544            60\n",
              "dtype: int64"
            ]
          },
          "metadata": {
            "tags": []
          },
          "execution_count": 13
        }
      ]
    },
    {
      "cell_type": "code",
      "metadata": {
        "colab_type": "code",
        "id": "eII3zW43OEZT",
        "colab": {}
      },
      "source": [
        "diff = np.array(diff)"
      ],
      "execution_count": 14,
      "outputs": []
    },
    {
      "cell_type": "code",
      "metadata": {
        "colab_type": "code",
        "id": "GSIjMoynLYtR",
        "colab": {}
      },
      "source": [
        "#Reshape in into a column\n",
        "\n",
        "diff = diff.reshape(-1,1)"
      ],
      "execution_count": 15,
      "outputs": []
    },
    {
      "cell_type": "code",
      "metadata": {
        "id": "hl71AJZSqa_q",
        "colab_type": "code",
        "colab": {
          "base_uri": "https://localhost:8080/",
          "height": 34
        },
        "outputId": "e79fd2c1-ce5b-457e-f946-1ef70582a138"
      },
      "source": [
        "np.shape(diff)"
      ],
      "execution_count": 16,
      "outputs": [
        {
          "output_type": "execute_result",
          "data": {
            "text/plain": [
              "(50999, 1)"
            ]
          },
          "metadata": {
            "tags": []
          },
          "execution_count": 16
        }
      ]
    },
    {
      "cell_type": "code",
      "metadata": {
        "colab_type": "code",
        "id": "eM46igRy25yF",
        "colab": {}
      },
      "source": [
        "#Append batches of 999 values on X_train and the 1000th value on y_train, then shifting the 'sliding window' one position to the right and so on\n",
        "\n",
        "X_train = []\n",
        "y_train = []\n",
        "for i in range(999, len(diff)):\n",
        "    X_train.append(diff[i-999: i])\n",
        "    y_train.append(diff[i])"
      ],
      "execution_count": 17,
      "outputs": []
    },
    {
      "cell_type": "code",
      "metadata": {
        "id": "spqPDuvVrEhE",
        "colab_type": "code",
        "colab": {
          "base_uri": "https://localhost:8080/",
          "height": 34
        },
        "outputId": "984e0d85-8657-4233-c963-d392cfce4b22"
      },
      "source": [
        "np.shape(X_train)"
      ],
      "execution_count": 18,
      "outputs": [
        {
          "output_type": "execute_result",
          "data": {
            "text/plain": [
              "(50000, 999, 1)"
            ]
          },
          "metadata": {
            "tags": []
          },
          "execution_count": 18
        }
      ]
    },
    {
      "cell_type": "code",
      "metadata": {
        "colab_type": "code",
        "id": "DJh-8cOi2585",
        "colab": {}
      },
      "source": [
        "X_train, y_train = np.array(X_train), np.array(y_train)"
      ],
      "execution_count": 19,
      "outputs": []
    },
    {
      "cell_type": "code",
      "metadata": {
        "colab_type": "code",
        "id": "6RFs6JD8314L",
        "colab": {}
      },
      "source": [
        "#Reshape it in order to put it in the LSTM in the form of (number of batches, timesteps, number of features)\n",
        "\n",
        "X_train = np.reshape(X_train, newshape = (X_train.shape[0], X_train.shape[1], 1))"
      ],
      "execution_count": 20,
      "outputs": []
    },
    {
      "cell_type": "code",
      "metadata": {
        "id": "LxhcmPfsyxHy",
        "colab_type": "code",
        "colab": {
          "base_uri": "https://localhost:8080/",
          "height": 34
        },
        "outputId": "33348f1b-b2cb-4e1e-94a9-0a6313d679bb"
      },
      "source": [
        "np.shape(X_train)"
      ],
      "execution_count": 21,
      "outputs": [
        {
          "output_type": "execute_result",
          "data": {
            "text/plain": [
              "(50000, 999, 1)"
            ]
          },
          "metadata": {
            "tags": []
          },
          "execution_count": 21
        }
      ]
    },
    {
      "cell_type": "code",
      "metadata": {
        "colab_type": "code",
        "id": "U6MUSgl032Ts",
        "colab": {}
      },
      "source": [
        "y_train = y_train.reshape(-1,1)"
      ],
      "execution_count": 22,
      "outputs": []
    },
    {
      "cell_type": "code",
      "metadata": {
        "colab_type": "code",
        "id": "b0ZDuQA5Org7",
        "colab": {
          "base_uri": "https://localhost:8080/",
          "height": 34
        },
        "outputId": "c8411e5f-3840-4201-e4f0-df6906ad05b7"
      },
      "source": [
        "#One-hot encode the values of y_train so they can be used in the LSTM (We get 5958 classes)\n",
        "\n",
        "encoder = OneHotEncoder(drop='first', sparse=False)\n",
        "y_train = y_train.reshape(len(y_train), 1)\n",
        "y_onehot = encoder.fit_transform(y_train)\n",
        "np.shape(y_onehot)"
      ],
      "execution_count": 23,
      "outputs": [
        {
          "output_type": "execute_result",
          "data": {
            "text/plain": [
              "(50000, 5958)"
            ]
          },
          "metadata": {
            "tags": []
          },
          "execution_count": 23
        }
      ]
    },
    {
      "cell_type": "code",
      "metadata": {
        "colab_type": "code",
        "id": "yhfQWKIA26Jq",
        "colab": {}
      },
      "source": [
        "#We have 2 hidden layers, 128 neurons in each hidden layer, a dropout of 20% and softmax as our activation function\n",
        "\n",
        "model = keras.Sequential() \n",
        "model.add(LSTM(128, return_sequences=True, input_shape=(X_train.shape[1], X_train.shape[2]), dropout = 0.2 ))\n",
        "model.add(LSTM(128, return_sequences=False, dropout = 0.2  ))\n",
        "model.add(Dense(5958, activation = 'softmax'))"
      ],
      "execution_count": 24,
      "outputs": []
    },
    {
      "cell_type": "code",
      "metadata": {
        "colab_type": "code",
        "id": "srihTj7U4M8C",
        "colab": {
          "base_uri": "https://localhost:8080/",
          "height": 34
        },
        "outputId": "bdeb56a8-d74b-4a7b-bcb4-629ca30cc7d4"
      },
      "source": [
        "start = time()\n",
        "model.compile(loss='categorical_crossentropy', optimizer='adam', metrics = ['accuracy']) \n",
        "print ('compilation time : ', time() - start)"
      ],
      "execution_count": 25,
      "outputs": [
        {
          "output_type": "stream",
          "text": [
            "compilation time :  0.023860931396484375\n"
          ],
          "name": "stdout"
        }
      ]
    },
    {
      "cell_type": "code",
      "metadata": {
        "colab_type": "code",
        "id": "nCflE87L4NIG",
        "colab": {
          "base_uri": "https://localhost:8080/",
          "height": 1000
        },
        "outputId": "ceacd00f-e315-44ef-d1b3-4a6ebaf852a4"
      },
      "source": [
        "history = model.fit(X_train, y_onehot, epochs=64, batch_size=100, verbose=1, validation_split=0.2, shuffle = False )  "
      ],
      "execution_count": 26,
      "outputs": [
        {
          "output_type": "stream",
          "text": [
            "Epoch 1/64\n",
            "400/400 [==============================] - 158s 396ms/step - loss: 4.8034 - accuracy: 0.1733 - val_loss: 5.7637 - val_accuracy: 0.1735\n",
            "Epoch 2/64\n",
            "400/400 [==============================] - 157s 392ms/step - loss: 3.8964 - accuracy: 0.3505 - val_loss: 5.8487 - val_accuracy: 0.1504\n",
            "Epoch 3/64\n",
            "400/400 [==============================] - 158s 394ms/step - loss: 3.5249 - accuracy: 0.4362 - val_loss: 5.8609 - val_accuracy: 0.1713\n",
            "Epoch 4/64\n",
            "400/400 [==============================] - 157s 393ms/step - loss: 3.2497 - accuracy: 0.4967 - val_loss: 5.8529 - val_accuracy: 0.1562\n",
            "Epoch 5/64\n",
            "400/400 [==============================] - 157s 392ms/step - loss: 3.0269 - accuracy: 0.5294 - val_loss: 5.6316 - val_accuracy: 0.1599\n",
            "Epoch 6/64\n",
            "400/400 [==============================] - 155s 389ms/step - loss: 2.8651 - accuracy: 0.5479 - val_loss: 5.4978 - val_accuracy: 0.1645\n",
            "Epoch 7/64\n",
            "400/400 [==============================] - 157s 393ms/step - loss: 2.7207 - accuracy: 0.5579 - val_loss: 5.1757 - val_accuracy: 0.2022\n",
            "Epoch 8/64\n",
            "400/400 [==============================] - 157s 392ms/step - loss: 2.5971 - accuracy: 0.5656 - val_loss: 4.9532 - val_accuracy: 0.2319\n",
            "Epoch 9/64\n",
            "400/400 [==============================] - 156s 389ms/step - loss: 2.5074 - accuracy: 0.5706 - val_loss: 4.8233 - val_accuracy: 0.2808\n",
            "Epoch 10/64\n",
            "400/400 [==============================] - 156s 390ms/step - loss: 2.4179 - accuracy: 0.5774 - val_loss: 4.6862 - val_accuracy: 0.2895\n",
            "Epoch 11/64\n",
            "400/400 [==============================] - 156s 391ms/step - loss: 2.3328 - accuracy: 0.5824 - val_loss: 4.5753 - val_accuracy: 0.3190\n",
            "Epoch 12/64\n",
            "400/400 [==============================] - 155s 388ms/step - loss: 2.2478 - accuracy: 0.5923 - val_loss: 4.3544 - val_accuracy: 0.3541\n",
            "Epoch 13/64\n",
            "400/400 [==============================] - 155s 388ms/step - loss: 2.1581 - accuracy: 0.6011 - val_loss: 4.2293 - val_accuracy: 0.3910\n",
            "Epoch 14/64\n",
            "400/400 [==============================] - 156s 390ms/step - loss: 2.0801 - accuracy: 0.6064 - val_loss: 4.1007 - val_accuracy: 0.4148\n",
            "Epoch 15/64\n",
            "400/400 [==============================] - 156s 390ms/step - loss: 1.9983 - accuracy: 0.6151 - val_loss: 3.9990 - val_accuracy: 0.4468\n",
            "Epoch 16/64\n",
            "400/400 [==============================] - 155s 388ms/step - loss: 1.9258 - accuracy: 0.6242 - val_loss: 3.9430 - val_accuracy: 0.4845\n",
            "Epoch 17/64\n",
            "400/400 [==============================] - 156s 390ms/step - loss: 1.8553 - accuracy: 0.6338 - val_loss: 3.8822 - val_accuracy: 0.4990\n",
            "Epoch 18/64\n",
            "400/400 [==============================] - 156s 389ms/step - loss: 1.7899 - accuracy: 0.6417 - val_loss: 3.8328 - val_accuracy: 0.5233\n",
            "Epoch 19/64\n",
            "400/400 [==============================] - 155s 388ms/step - loss: 1.7249 - accuracy: 0.6502 - val_loss: 3.7314 - val_accuracy: 0.5598\n",
            "Epoch 20/64\n",
            "400/400 [==============================] - 155s 388ms/step - loss: 1.6727 - accuracy: 0.6593 - val_loss: 3.7150 - val_accuracy: 0.5759\n",
            "Epoch 21/64\n",
            "400/400 [==============================] - 156s 391ms/step - loss: 1.6228 - accuracy: 0.6656 - val_loss: 3.7015 - val_accuracy: 0.6068\n",
            "Epoch 22/64\n",
            "400/400 [==============================] - 156s 391ms/step - loss: 1.5713 - accuracy: 0.6721 - val_loss: 3.6703 - val_accuracy: 0.6222\n",
            "Epoch 23/64\n",
            "400/400 [==============================] - 156s 390ms/step - loss: 1.5151 - accuracy: 0.6813 - val_loss: 3.6144 - val_accuracy: 0.6286\n",
            "Epoch 24/64\n",
            "400/400 [==============================] - 156s 390ms/step - loss: 1.4637 - accuracy: 0.6880 - val_loss: 3.6064 - val_accuracy: 0.6406\n",
            "Epoch 25/64\n",
            "400/400 [==============================] - 156s 390ms/step - loss: 1.4130 - accuracy: 0.6948 - val_loss: 3.5404 - val_accuracy: 0.6618\n",
            "Epoch 26/64\n",
            "400/400 [==============================] - 155s 389ms/step - loss: 1.3758 - accuracy: 0.6999 - val_loss: 3.5742 - val_accuracy: 0.6681\n",
            "Epoch 27/64\n",
            "400/400 [==============================] - 157s 393ms/step - loss: 1.3303 - accuracy: 0.7075 - val_loss: 3.4931 - val_accuracy: 0.6797\n",
            "Epoch 28/64\n",
            "400/400 [==============================] - 159s 398ms/step - loss: 1.3016 - accuracy: 0.7139 - val_loss: 3.4667 - val_accuracy: 0.6911\n",
            "Epoch 29/64\n",
            "400/400 [==============================] - 159s 397ms/step - loss: 1.2684 - accuracy: 0.7183 - val_loss: 3.5041 - val_accuracy: 0.6912\n",
            "Epoch 30/64\n",
            "400/400 [==============================] - 158s 396ms/step - loss: 1.2316 - accuracy: 0.7239 - val_loss: 3.5062 - val_accuracy: 0.7061\n",
            "Epoch 31/64\n",
            "400/400 [==============================] - 159s 398ms/step - loss: 1.2176 - accuracy: 0.7259 - val_loss: 3.4603 - val_accuracy: 0.7196\n",
            "Epoch 32/64\n",
            "400/400 [==============================] - 159s 397ms/step - loss: 1.1782 - accuracy: 0.7318 - val_loss: 3.4643 - val_accuracy: 0.7234\n",
            "Epoch 33/64\n",
            "400/400 [==============================] - 157s 393ms/step - loss: 1.1694 - accuracy: 0.7340 - val_loss: 3.4711 - val_accuracy: 0.7247\n",
            "Epoch 34/64\n",
            "400/400 [==============================] - 158s 394ms/step - loss: 1.1435 - accuracy: 0.7368 - val_loss: 3.4905 - val_accuracy: 0.7285\n",
            "Epoch 35/64\n",
            "400/400 [==============================] - 157s 394ms/step - loss: 1.1167 - accuracy: 0.7409 - val_loss: 3.4899 - val_accuracy: 0.7310\n",
            "Epoch 36/64\n",
            "400/400 [==============================] - 157s 393ms/step - loss: 1.0918 - accuracy: 0.7473 - val_loss: 3.4951 - val_accuracy: 0.7462\n",
            "Epoch 37/64\n",
            "400/400 [==============================] - 158s 394ms/step - loss: 1.0861 - accuracy: 0.7459 - val_loss: 3.4717 - val_accuracy: 0.7445\n",
            "Epoch 38/64\n",
            "400/400 [==============================] - 158s 394ms/step - loss: 1.0809 - accuracy: 0.7453 - val_loss: 3.5465 - val_accuracy: 0.7486\n",
            "Epoch 39/64\n",
            "400/400 [==============================] - 159s 396ms/step - loss: 1.0672 - accuracy: 0.7491 - val_loss: 3.4988 - val_accuracy: 0.7478\n",
            "Epoch 40/64\n",
            "400/400 [==============================] - 158s 394ms/step - loss: 1.0495 - accuracy: 0.7520 - val_loss: 3.4924 - val_accuracy: 0.7603\n",
            "Epoch 41/64\n",
            "400/400 [==============================] - 156s 391ms/step - loss: 1.0350 - accuracy: 0.7546 - val_loss: 3.5165 - val_accuracy: 0.7561\n",
            "Epoch 42/64\n",
            "400/400 [==============================] - 158s 395ms/step - loss: 1.0153 - accuracy: 0.7573 - val_loss: 3.5521 - val_accuracy: 0.7568\n",
            "Epoch 43/64\n",
            "400/400 [==============================] - 159s 397ms/step - loss: 1.0029 - accuracy: 0.7597 - val_loss: 3.5261 - val_accuracy: 0.7653\n",
            "Epoch 44/64\n",
            "400/400 [==============================] - 158s 395ms/step - loss: 0.9926 - accuracy: 0.7602 - val_loss: 3.5437 - val_accuracy: 0.7614\n",
            "Epoch 45/64\n",
            "400/400 [==============================] - 157s 393ms/step - loss: 0.9763 - accuracy: 0.7641 - val_loss: 3.5605 - val_accuracy: 0.7696\n",
            "Epoch 46/64\n",
            "400/400 [==============================] - 157s 392ms/step - loss: 0.9606 - accuracy: 0.7669 - val_loss: 3.5471 - val_accuracy: 0.7656\n",
            "Epoch 47/64\n",
            "400/400 [==============================] - 156s 390ms/step - loss: 0.9566 - accuracy: 0.7652 - val_loss: 3.5458 - val_accuracy: 0.7713\n",
            "Epoch 48/64\n",
            "400/400 [==============================] - 156s 390ms/step - loss: 0.9497 - accuracy: 0.7693 - val_loss: 3.5388 - val_accuracy: 0.7753\n",
            "Epoch 49/64\n",
            "400/400 [==============================] - 157s 391ms/step - loss: 0.9341 - accuracy: 0.7712 - val_loss: 3.5683 - val_accuracy: 0.7675\n",
            "Epoch 50/64\n",
            "400/400 [==============================] - 156s 391ms/step - loss: 0.9396 - accuracy: 0.7703 - val_loss: 3.5979 - val_accuracy: 0.7657\n",
            "Epoch 51/64\n",
            "400/400 [==============================] - 156s 390ms/step - loss: 0.9286 - accuracy: 0.7722 - val_loss: 3.5960 - val_accuracy: 0.7715\n",
            "Epoch 52/64\n",
            "400/400 [==============================] - 156s 391ms/step - loss: 0.9081 - accuracy: 0.7780 - val_loss: 3.5891 - val_accuracy: 0.7765\n",
            "Epoch 53/64\n",
            "400/400 [==============================] - 157s 392ms/step - loss: 0.8991 - accuracy: 0.7785 - val_loss: 3.6039 - val_accuracy: 0.7758\n",
            "Epoch 54/64\n",
            "400/400 [==============================] - 156s 390ms/step - loss: 0.8968 - accuracy: 0.7781 - val_loss: 3.6081 - val_accuracy: 0.7724\n",
            "Epoch 55/64\n",
            "400/400 [==============================] - 156s 390ms/step - loss: 0.9026 - accuracy: 0.7776 - val_loss: 3.6385 - val_accuracy: 0.7654\n",
            "Epoch 56/64\n",
            "400/400 [==============================] - 156s 390ms/step - loss: 0.8876 - accuracy: 0.7800 - val_loss: 3.6299 - val_accuracy: 0.7780\n",
            "Epoch 57/64\n",
            "400/400 [==============================] - 157s 391ms/step - loss: 0.8753 - accuracy: 0.7814 - val_loss: 3.6549 - val_accuracy: 0.7737\n",
            "Epoch 58/64\n",
            "400/400 [==============================] - 156s 390ms/step - loss: 0.8658 - accuracy: 0.7836 - val_loss: 3.6736 - val_accuracy: 0.7762\n",
            "Epoch 59/64\n",
            "400/400 [==============================] - 156s 391ms/step - loss: 0.8543 - accuracy: 0.7858 - val_loss: 3.6532 - val_accuracy: 0.7837\n",
            "Epoch 60/64\n",
            "400/400 [==============================] - 156s 390ms/step - loss: 0.8473 - accuracy: 0.7872 - val_loss: 3.6780 - val_accuracy: 0.7794\n",
            "Epoch 61/64\n",
            "400/400 [==============================] - 156s 389ms/step - loss: 0.8533 - accuracy: 0.7859 - val_loss: 3.6423 - val_accuracy: 0.7805\n",
            "Epoch 62/64\n",
            "400/400 [==============================] - 156s 389ms/step - loss: 0.8408 - accuracy: 0.7892 - val_loss: 3.6933 - val_accuracy: 0.7755\n",
            "Epoch 63/64\n",
            "400/400 [==============================] - 159s 398ms/step - loss: 0.8237 - accuracy: 0.7906 - val_loss: 3.6278 - val_accuracy: 0.7857\n",
            "Epoch 64/64\n",
            "400/400 [==============================] - 158s 396ms/step - loss: 0.8267 - accuracy: 0.7923 - val_loss: 3.6879 - val_accuracy: 0.7791\n"
          ],
          "name": "stdout"
        }
      ]
    },
    {
      "cell_type": "code",
      "metadata": {
        "colab_type": "code",
        "id": "de7KpqeO4NS2",
        "colab": {
          "base_uri": "https://localhost:8080/",
          "height": 136
        },
        "outputId": "e94251f9-b33c-4d8f-ead9-f44453903c4e"
      },
      "source": [
        "test_data = diff[training_data_len:]\n",
        "test_data"
      ],
      "execution_count": 27,
      "outputs": [
        {
          "output_type": "execute_result",
          "data": {
            "text/plain": [
              "array([[          8],\n",
              "       [          4],\n",
              "       [          4],\n",
              "       ...,\n",
              "       [-3079613032],\n",
              "       [         44],\n",
              "       [ 3079613012]])"
            ]
          },
          "metadata": {
            "tags": []
          },
          "execution_count": 27
        }
      ]
    },
    {
      "cell_type": "code",
      "metadata": {
        "colab_type": "code",
        "id": "P1-pVtA_nE52",
        "colab": {}
      },
      "source": [
        "#We repeat the same process of appending the values for the test portion of our data (the last 20% of the dataset)\n",
        "\n",
        "x_test = []\n",
        "y_test = [] \n",
        "for i in range(999,len(test_data)):\n",
        "    x_test.append(test_data[i-999:i])\n",
        "    y_test.append(test_data[i])"
      ],
      "execution_count": 28,
      "outputs": []
    },
    {
      "cell_type": "code",
      "metadata": {
        "colab_type": "code",
        "id": "Pj0ZF6RFnFJl",
        "colab": {}
      },
      "source": [
        "x_test, y_test = np.array(x_test), np.array(y_test)"
      ],
      "execution_count": 29,
      "outputs": []
    },
    {
      "cell_type": "code",
      "metadata": {
        "colab_type": "code",
        "id": "heguvah5nFct",
        "colab": {}
      },
      "source": [
        "x_test = np.reshape(x_test, (x_test.shape[0],x_test.shape[1],1))"
      ],
      "execution_count": 30,
      "outputs": []
    },
    {
      "cell_type": "code",
      "metadata": {
        "colab_type": "code",
        "id": "L024y9Q4qu00",
        "colab": {}
      },
      "source": [
        "predictions = model.predict(x_test) "
      ],
      "execution_count": 31,
      "outputs": []
    },
    {
      "cell_type": "code",
      "metadata": {
        "colab_type": "code",
        "id": "M6UNoplHtVoB",
        "colab": {
          "base_uri": "https://localhost:8080/",
          "height": 646
        },
        "outputId": "8de24e42-5b81-4c31-89ee-46e1705cd8f1"
      },
      "source": [
        "#The predictions come out one-hot-encoded\n",
        "\n",
        "predictions"
      ],
      "execution_count": 32,
      "outputs": [
        {
          "output_type": "execute_result",
          "data": {
            "text/plain": [
              "array([[0.000000000000009595148         ,\n",
              "        0.000000000000000008480671      ,\n",
              "        0.0000000000000004934298        , ...,\n",
              "        0.00000000000023799382          ,\n",
              "        0.0000000000008887756           ,\n",
              "        0.0000000000002519562           ],\n",
              "       [0.000000000000012558829         ,\n",
              "        0.00000000000000027126397       ,\n",
              "        0.0000000000000012357279        , ...,\n",
              "        0.00000000000000758675          ,\n",
              "        0.000000000000017485765         ,\n",
              "        0.0000000000000021461621        ],\n",
              "       [0.00000000000000000005744997    ,\n",
              "        0.000000000000000000000008929699,\n",
              "        0.0000000000000000011120215     , ...,\n",
              "        0.0000000000000000028847272     ,\n",
              "        0.00000000000000008133032       ,\n",
              "        0.00000000000000027086512       ],\n",
              "       ...,\n",
              "       [0.0000000000000000007431059     ,\n",
              "        0.000000000000000000021466318   ,\n",
              "        0.000000000000000024557836      , ...,\n",
              "        0.00000000000000033263865       ,\n",
              "        0.00000000000000003007489       ,\n",
              "        0.00000000000000006688359       ],\n",
              "       [0.00000000000000007412588       ,\n",
              "        0.0000000000000000047484808     ,\n",
              "        0.0000000000000061875515        , ...,\n",
              "        0.000000000000014120452         ,\n",
              "        0.0000000000000038190556        ,\n",
              "        0.0000000000000023390258        ],\n",
              "       [0.00000000000007573024          ,\n",
              "        0.0000000000000022537336        ,\n",
              "        0.000000000011941419            , ...,\n",
              "        0.0000000000000000002389273     ,\n",
              "        0.000000000000000007429891      ,\n",
              "        0.0000000000000000009726509     ]], dtype=float32)"
            ]
          },
          "metadata": {
            "tags": []
          },
          "execution_count": 32
        }
      ]
    },
    {
      "cell_type": "code",
      "metadata": {
        "id": "vnLfRIavT7gl",
        "colab_type": "code",
        "colab": {
          "base_uri": "https://localhost:8080/",
          "height": 34
        },
        "outputId": "9ad5fda6-b233-40a6-f615-2548d3966539"
      },
      "source": [
        "np.shape(predictions)"
      ],
      "execution_count": 33,
      "outputs": [
        {
          "output_type": "execute_result",
          "data": {
            "text/plain": [
              "(9200, 5958)"
            ]
          },
          "metadata": {
            "tags": []
          },
          "execution_count": 33
        }
      ]
    },
    {
      "cell_type": "code",
      "metadata": {
        "id": "6X0jzSTTUFpa",
        "colab_type": "code",
        "colab": {
          "base_uri": "https://localhost:8080/",
          "height": 34
        },
        "outputId": "473437c3-d71f-4970-d06a-880b812f0301"
      },
      "source": [
        "np.shape(y_test)"
      ],
      "execution_count": 34,
      "outputs": [
        {
          "output_type": "execute_result",
          "data": {
            "text/plain": [
              "(9200, 1)"
            ]
          },
          "metadata": {
            "tags": []
          },
          "execution_count": 34
        }
      ]
    },
    {
      "cell_type": "code",
      "metadata": {
        "id": "-7xQvlU0ZO31",
        "colab_type": "code",
        "colab": {
          "base_uri": "https://localhost:8080/",
          "height": 34
        },
        "outputId": "9d418a03-ce7c-4f1f-a05d-d224653e6113"
      },
      "source": [
        "np.shape(res)"
      ],
      "execution_count": 35,
      "outputs": [
        {
          "output_type": "execute_result",
          "data": {
            "text/plain": [
              "(51000,)"
            ]
          },
          "metadata": {
            "tags": []
          },
          "execution_count": 35
        }
      ]
    },
    {
      "cell_type": "code",
      "metadata": {
        "id": "04tdbiYsURdW",
        "colab_type": "code",
        "colab": {}
      },
      "source": [
        "#We reverse the differences, getting the real values of y_test in order to compare them to our predictions\n",
        "\n",
        "for i in range(0,len(y_test)-1):\n",
        "  y_test[i] =  res[training_data_len + 999 + i+1] - y_test[i]"
      ],
      "execution_count": 36,
      "outputs": []
    },
    {
      "cell_type": "code",
      "metadata": {
        "id": "IXK1od5GVkqh",
        "colab_type": "code",
        "colab": {
          "base_uri": "https://localhost:8080/",
          "height": 136
        },
        "outputId": "d87c430a-725a-4480-fa52-c5ed3b48125b"
      },
      "source": [
        "y_test"
      ],
      "execution_count": 37,
      "outputs": [
        {
          "output_type": "execute_result",
          "data": {
            "text/plain": [
              "array([[3216123932],\n",
              "       [3216124044],\n",
              "       [3216123964],\n",
              "       ...,\n",
              "       [3216124264],\n",
              "       [ 136511232],\n",
              "       [3079613012]])"
            ]
          },
          "metadata": {
            "tags": []
          },
          "execution_count": 37
        }
      ]
    },
    {
      "cell_type": "code",
      "metadata": {
        "id": "e4Q3bNSHdhyu",
        "colab_type": "code",
        "colab": {
          "base_uri": "https://localhost:8080/",
          "height": 136
        },
        "outputId": "af5c5b84-42ed-4b53-a0fc-2fe6a31cd3a3"
      },
      "source": [
        "y_onehot"
      ],
      "execution_count": 38,
      "outputs": [
        {
          "output_type": "execute_result",
          "data": {
            "text/plain": [
              "array([[0., 0., 0., ..., 0., 0., 0.],\n",
              "       [0., 0., 0., ..., 0., 0., 0.],\n",
              "       [0., 0., 0., ..., 0., 0., 0.],\n",
              "       ...,\n",
              "       [0., 0., 0., ..., 0., 0., 0.],\n",
              "       [0., 0., 0., ..., 0., 0., 0.],\n",
              "       [0., 0., 0., ..., 0., 0., 0.]])"
            ]
          },
          "metadata": {
            "tags": []
          },
          "execution_count": 38
        }
      ]
    },
    {
      "cell_type": "code",
      "metadata": {
        "id": "XP0FSbd2TY2r",
        "colab_type": "code",
        "colab": {}
      },
      "source": [
        "#We undo the one-hot encoding taking the maximum of each row and keeping the column number where that maximum is found, and then from this number finding the column label\n",
        "\n",
        "maximums = []\n",
        "for i in range(0,predictions.shape[0]):\n",
        "  max = 0\n",
        "  column = 0\n",
        "  temp = 0\n",
        "  for j in range(0,predictions.shape[1]):\n",
        "    temp = predictions[i][j]\n",
        "    if temp > max: \n",
        "      max = temp\n",
        "      column = j\n",
        "  maximums.append(encoder.get_feature_names()[column]) "
      ],
      "execution_count": 39,
      "outputs": []
    },
    {
      "cell_type": "code",
      "metadata": {
        "id": "9ktYKYucVlXw",
        "colab_type": "code",
        "colab": {
          "base_uri": "https://localhost:8080/",
          "height": 1000
        },
        "outputId": "50cc2be4-1e06-4127-9c8a-89ef1588e5a5"
      },
      "source": [
        "maximums"
      ],
      "execution_count": 40,
      "outputs": [
        {
          "output_type": "execute_result",
          "data": {
            "text/plain": [
              "['x0_112',\n",
              " 'x0_-80',\n",
              " 'x0_80',\n",
              " 'x0_-76',\n",
              " 'x0_80',\n",
              " 'x0_-76',\n",
              " 'x0_44',\n",
              " 'x0_0',\n",
              " 'x0_-72',\n",
              " 'x0_4',\n",
              " 'x0_4',\n",
              " 'x0_4',\n",
              " 'x0_44',\n",
              " 'x0_32',\n",
              " 'x0_-4',\n",
              " 'x0_-8',\n",
              " 'x0_-12',\n",
              " 'x0_0',\n",
              " 'x0_32',\n",
              " 'x0_-4',\n",
              " 'x0_-12',\n",
              " 'x0_144',\n",
              " 'x0_-192',\n",
              " 'x0_4',\n",
              " 'x0_4',\n",
              " 'x0_4',\n",
              " 'x0_4',\n",
              " 'x0_212',\n",
              " 'x0_-208',\n",
              " 'x0_8',\n",
              " 'x0_196',\n",
              " 'x0_-200',\n",
              " 'x0_-8',\n",
              " 'x0_-4',\n",
              " 'x0_-4',\n",
              " 'x0_-4',\n",
              " 'x0_-4',\n",
              " 'x0_-4',\n",
              " 'x0_0',\n",
              " 'x0_0',\n",
              " 'x0_24',\n",
              " 'x0_-161745040',\n",
              " 'x0_161743636',\n",
              " 'x0_1494',\n",
              " 'x0_-161745338',\n",
              " 'x0_161745372',\n",
              " 'x0_-124',\n",
              " 'x0_124',\n",
              " 'x0_-124',\n",
              " 'x0_20',\n",
              " 'x0_-16',\n",
              " 'x0_-4',\n",
              " 'x0_90',\n",
              " 'x0_-161745338',\n",
              " 'x0_161745372',\n",
              " 'x0_-124',\n",
              " 'x0_124',\n",
              " 'x0_-124',\n",
              " 'x0_20',\n",
              " 'x0_-12',\n",
              " 'x0_-1512',\n",
              " 'x0_1456',\n",
              " 'x0_4',\n",
              " 'x0_20',\n",
              " 'x0_-1512',\n",
              " 'x0_1540',\n",
              " 'x0_-1544',\n",
              " 'x0_-4',\n",
              " 'x0_-4',\n",
              " 'x0_-12',\n",
              " 'x0_-16',\n",
              " 'x0_0',\n",
              " 'x0_0',\n",
              " 'x0_20',\n",
              " 'x0_16',\n",
              " 'x0_-12',\n",
              " 'x0_16',\n",
              " 'x0_-3079808679',\n",
              " 'x0_3079808655',\n",
              " 'x0_4',\n",
              " 'x0_4',\n",
              " 'x0_4',\n",
              " 'x0_4',\n",
              " 'x0_1544',\n",
              " 'x0_-1396',\n",
              " 'x0_1416',\n",
              " 'x0_-1436',\n",
              " 'x0_1416',\n",
              " 'x0_0',\n",
              " 'x0_-1416',\n",
              " 'x0_1420',\n",
              " 'x0_-1464',\n",
              " 'x0_36',\n",
              " 'x0_1514',\n",
              " 'x0_78',\n",
              " 'x0_-1700',\n",
              " 'x0_1536',\n",
              " 'x0_-1544',\n",
              " 'x0_4',\n",
              " 'x0_-161744672',\n",
              " 'x0_161744664',\n",
              " 'x0_-4',\n",
              " 'x0_-4',\n",
              " 'x0_-4',\n",
              " 'x0_-4',\n",
              " 'x0_28',\n",
              " 'x0_-56',\n",
              " 'x0_0',\n",
              " 'x0_0',\n",
              " 'x0_28',\n",
              " 'x0_4',\n",
              " 'x0_4',\n",
              " 'x0_4',\n",
              " 'x0_4',\n",
              " 'x0_124',\n",
              " 'x0_8',\n",
              " 'x0_-3079808799',\n",
              " 'x0_3079808795',\n",
              " 'x0_-12',\n",
              " 'x0_4',\n",
              " 'x0_20',\n",
              " 'x0_8',\n",
              " 'x0_-116',\n",
              " 'x0_24',\n",
              " 'x0_72',\n",
              " 'x0_248',\n",
              " 'x0_-344',\n",
              " 'x0_-3079808698',\n",
              " 'x0_3079808893',\n",
              " 'x0_-161874455',\n",
              " 'x0_-316',\n",
              " 'x0_161874712',\n",
              " 'x0_284',\n",
              " 'x0_-172',\n",
              " 'x0_4',\n",
              " 'x0_-36',\n",
              " 'x0_40',\n",
              " 'x0_4',\n",
              " 'x0_4',\n",
              " 'x0_4',\n",
              " 'x0_4',\n",
              " 'x0_4',\n",
              " 'x0_4',\n",
              " 'x0_156',\n",
              " 'x0_8',\n",
              " 'x0_-160',\n",
              " 'x0_4',\n",
              " 'x0_1348',\n",
              " 'x0_160',\n",
              " 'x0_-180',\n",
              " 'x0_1380',\n",
              " 'x0_0',\n",
              " 'x0_-1184',\n",
              " 'x0_1176',\n",
              " 'x0_236',\n",
              " 'x0_-196',\n",
              " 'x0_4',\n",
              " 'x0_-3079607808',\n",
              " 'x0_3079607764',\n",
              " 'x0_40',\n",
              " 'x0_-1412',\n",
              " 'x0_-52',\n",
              " 'x0_0',\n",
              " 'x0_216',\n",
              " 'x0_36',\n",
              " 'x0_-332',\n",
              " 'x0_-32',\n",
              " 'x0_-4',\n",
              " 'x0_-4',\n",
              " 'x0_-4',\n",
              " 'x0_-12',\n",
              " 'x0_-16',\n",
              " 'x0_0',\n",
              " 'x0_0',\n",
              " 'x0_20',\n",
              " 'x0_16',\n",
              " 'x0_-12',\n",
              " 'x0_16',\n",
              " 'x0_-3079808677',\n",
              " 'x0_3079808653',\n",
              " 'x0_4',\n",
              " 'x0_4',\n",
              " 'x0_4',\n",
              " 'x0_4',\n",
              " 'x0_1544',\n",
              " 'x0_-1460',\n",
              " 'x0_40',\n",
              " 'x0_1510',\n",
              " 'x0_78',\n",
              " 'x0_-1700',\n",
              " 'x0_-4',\n",
              " 'x0_-4',\n",
              " 'x0_-161744668',\n",
              " 'x0_161744664',\n",
              " 'x0_-4',\n",
              " 'x0_-4',\n",
              " 'x0_-4',\n",
              " 'x0_-4',\n",
              " 'x0_28',\n",
              " 'x0_-56',\n",
              " 'x0_0',\n",
              " 'x0_0',\n",
              " 'x0_28',\n",
              " 'x0_4',\n",
              " 'x0_4',\n",
              " 'x0_4',\n",
              " 'x0_4',\n",
              " 'x0_124',\n",
              " 'x0_8',\n",
              " 'x0_0',\n",
              " 'x0_-3079808789',\n",
              " 'x0_3079810213',\n",
              " 'x0_20',\n",
              " 'x0_-1416',\n",
              " 'x0_-28',\n",
              " 'x0_1404',\n",
              " 'x0_4',\n",
              " 'x0_4',\n",
              " 'x0_4',\n",
              " 'x0_4',\n",
              " 'x0_44',\n",
              " 'x0_4',\n",
              " 'x0_-3079607807',\n",
              " 'x0_3079607803',\n",
              " 'x0_140',\n",
              " 'x0_4',\n",
              " 'x0_4',\n",
              " 'x0_4',\n",
              " 'x0_4',\n",
              " 'x0_20',\n",
              " 'x0_4',\n",
              " 'x0_4',\n",
              " 'x0_-3079670104',\n",
              " 'x0_0',\n",
              " 'x0_3079670136',\n",
              " 'x0_4',\n",
              " 'x0_4',\n",
              " 'x0_4',\n",
              " 'x0_4',\n",
              " 'x0_8',\n",
              " 'x0_-3079608524',\n",
              " 'x0_3079608520',\n",
              " 'x0_-4',\n",
              " 'x0_-4',\n",
              " 'x0_-4',\n",
              " 'x0_12',\n",
              " 'x0_-3079608056',\n",
              " 'x0_3079608044',\n",
              " 'x0_4',\n",
              " 'x0_4',\n",
              " 'x0_12',\n",
              " 'x0_-3079608528',\n",
              " 'x0_3079608524',\n",
              " 'x0_-3079613152',\n",
              " 'x0_3079613148',\n",
              " 'x0_-4',\n",
              " 'x0_-4',\n",
              " 'x0_-4',\n",
              " 'x0_-4',\n",
              " 'x0_-4',\n",
              " 'x0_20',\n",
              " 'x0_4',\n",
              " 'x0_-3079612984',\n",
              " 'x0_3079613068',\n",
              " 'x0_-3079613064',\n",
              " 'x0_3079612928',\n",
              " 'x0_4',\n",
              " 'x0_-8',\n",
              " 'x0_-4',\n",
              " 'x0_-4',\n",
              " 'x0_12',\n",
              " 'x0_4',\n",
              " 'x0_-3079607996',\n",
              " 'x0_1',\n",
              " 'x0_3079607979',\n",
              " 'x0_1',\n",
              " 'x0_1',\n",
              " 'x0_3079607992',\n",
              " 'x0_3079607992',\n",
              " 'x0_4',\n",
              " 'x0_4',\n",
              " 'x0_28',\n",
              " 'x0_24',\n",
              " 'x0_-24',\n",
              " 'x0_-3079613016',\n",
              " 'x0_20',\n",
              " 'x0_3079613000',\n",
              " 'x0_-3079613060',\n",
              " 'x0_-4',\n",
              " 'x0_3079609768',\n",
              " 'x0_-3079607836',\n",
              " 'x0_4',\n",
              " 'x0_-4',\n",
              " 'x0_72028',\n",
              " 'x0_3079609788',\n",
              " 'x0_-4',\n",
              " 'x0_16',\n",
              " 'x0_-4',\n",
              " 'x0_-3079607836',\n",
              " 'x0_4',\n",
              " 'x0_-4',\n",
              " 'x0_3079607980',\n",
              " 'x0_-4',\n",
              " 'x0_-4',\n",
              " 'x0_-28',\n",
              " 'x0_-4',\n",
              " 'x0_-8',\n",
              " 'x0_4',\n",
              " 'x0_60',\n",
              " 'x0_-8',\n",
              " 'x0_4',\n",
              " 'x0_3079607980',\n",
              " 'x0_-3079613016',\n",
              " 'x0_5016',\n",
              " 'x0_-4',\n",
              " 'x0_4984',\n",
              " 'x0_-4924',\n",
              " 'x0_3079612924',\n",
              " 'x0_-3079613060',\n",
              " 'x0_0',\n",
              " 'x0_3079613040',\n",
              " 'x0_4',\n",
              " 'x0_4',\n",
              " 'x0_4',\n",
              " 'x0_4',\n",
              " 'x0_-3079608508',\n",
              " 'x0_-3079608524',\n",
              " 'x0_3079608520',\n",
              " 'x0_-3079613148',\n",
              " 'x0_3079613144',\n",
              " 'x0_-4',\n",
              " 'x0_-4',\n",
              " 'x0_-4',\n",
              " 'x0_-4',\n",
              " 'x0_-4',\n",
              " 'x0_20',\n",
              " 'x0_4',\n",
              " 'x0_-3079612984',\n",
              " 'x0_3079612980',\n",
              " 'x0_-3079612976',\n",
              " 'x0_3079612928',\n",
              " 'x0_4',\n",
              " 'x0_-8',\n",
              " 'x0_-4',\n",
              " 'x0_-4',\n",
              " 'x0_12',\n",
              " 'x0_4',\n",
              " 'x0_-3079607996',\n",
              " 'x0_1',\n",
              " 'x0_3079607979',\n",
              " 'x0_4',\n",
              " 'x0_4',\n",
              " 'x0_28',\n",
              " 'x0_24',\n",
              " 'x0_-24',\n",
              " 'x0_-3079612928',\n",
              " 'x0_8',\n",
              " 'x0_3079612924',\n",
              " 'x0_-3079612972',\n",
              " 'x0_4',\n",
              " 'x0_4',\n",
              " 'x0_4',\n",
              " 'x0_12',\n",
              " 'x0_-3079608524',\n",
              " 'x0_3079608520',\n",
              " 'x0_-3079613148',\n",
              " 'x0_3079613144',\n",
              " 'x0_-4',\n",
              " 'x0_-4',\n",
              " 'x0_-4',\n",
              " 'x0_-4',\n",
              " 'x0_-4',\n",
              " 'x0_20',\n",
              " 'x0_4',\n",
              " 'x0_-3079612984',\n",
              " 'x0_3079612980',\n",
              " 'x0_-3079612976',\n",
              " 'x0_3079612928',\n",
              " 'x0_4',\n",
              " 'x0_-8',\n",
              " 'x0_-4',\n",
              " 'x0_-4',\n",
              " 'x0_12',\n",
              " 'x0_4',\n",
              " 'x0_-3079607996',\n",
              " 'x0_1',\n",
              " 'x0_3079607979',\n",
              " 'x0_4',\n",
              " 'x0_4',\n",
              " 'x0_28',\n",
              " 'x0_24',\n",
              " 'x0_-24',\n",
              " 'x0_-3079612928',\n",
              " 'x0_8',\n",
              " 'x0_3079612924',\n",
              " 'x0_-3079612972',\n",
              " 'x0_-4',\n",
              " 'x0_8',\n",
              " 'x0_3079612920',\n",
              " 'x0_-4',\n",
              " 'x0_60',\n",
              " 'x0_-8',\n",
              " 'x0_-3079608004',\n",
              " 'x0_3079607996',\n",
              " 'x0_-3079612928',\n",
              " 'x0_4944',\n",
              " 'x0_-4916',\n",
              " 'x0_4924',\n",
              " 'x0_-4924',\n",
              " 'x0_3079612924',\n",
              " 'x0_-3079612972',\n",
              " 'x0_0',\n",
              " 'x0_3079612952',\n",
              " 'x0_4',\n",
              " 'x0_4',\n",
              " 'x0_4',\n",
              " 'x0_4',\n",
              " 'x0_-3079608508',\n",
              " 'x0_3079608516',\n",
              " 'x0_4',\n",
              " 'x0_-3079613148',\n",
              " 'x0_3079613140',\n",
              " 'x0_-4',\n",
              " 'x0_-4',\n",
              " 'x0_-4',\n",
              " 'x0_-4',\n",
              " 'x0_16',\n",
              " 'x0_8',\n",
              " 'x0_-40',\n",
              " 'x0_-4',\n",
              " 'x0_40',\n",
              " 'x0_-3079607984',\n",
              " 'x0_-4912',\n",
              " 'x0_4908',\n",
              " 'x0_-4',\n",
              " 'x0_-4',\n",
              " 'x0_-4312',\n",
              " 'x0_4',\n",
              " 'x0_4316',\n",
              " 'x0_-4312',\n",
              " 'x0_0',\n",
              " 'x0_-4',\n",
              " 'x0_3079612912',\n",
              " 'x0_-36',\n",
              " 'x0_4',\n",
              " 'x0_4',\n",
              " 'x0_4',\n",
              " 'x0_24',\n",
              " 'x0_-3079608488',\n",
              " 'x0_4',\n",
              " 'x0_3079608464',\n",
              " 'x0_-4',\n",
              " 'x0_-4',\n",
              " 'x0_-4',\n",
              " 'x0_-4',\n",
              " 'x0_16',\n",
              " 'x0_-3079609080',\n",
              " 'x0_-12',\n",
              " 'x0_3079608468',\n",
              " 'x0_-4',\n",
              " 'x0_-12',\n",
              " 'x0_-4',\n",
              " 'x0_-3079608448',\n",
              " 'x0_12',\n",
              " 'x0_3079608472',\n",
              " 'x0_4',\n",
              " 'x0_4',\n",
              " 'x0_4',\n",
              " 'x0_32',\n",
              " 'x0_4',\n",
              " 'x0_4',\n",
              " 'x0_4',\n",
              " 'x0_4',\n",
              " 'x0_4',\n",
              " 'x0_-4',\n",
              " 'x0_-4',\n",
              " 'x0_8',\n",
              " 'x0_-8',\n",
              " 'x0_-3079608552',\n",
              " 'x0_3079608556',\n",
              " 'x0_20',\n",
              " 'x0_-4',\n",
              " 'x0_8',\n",
              " 'x0_4',\n",
              " 'x0_4',\n",
              " 'x0_4',\n",
              " 'x0_-4',\n",
              " 'x0_-4',\n",
              " 'x0_-4',\n",
              " 'x0_-4',\n",
              " 'x0_-4',\n",
              " 'x0_-8',\n",
              " 'x0_-4',\n",
              " 'x0_-4',\n",
              " 'x0_-4',\n",
              " 'x0_168',\n",
              " 'x0_-8',\n",
              " 'x0_40',\n",
              " 'x0_-3079608568',\n",
              " 'x0_-4344',\n",
              " 'x0_4932',\n",
              " 'x0_-4',\n",
              " 'x0_-4',\n",
              " 'x0_-4928',\n",
              " 'x0_4',\n",
              " 'x0_4340',\n",
              " 'x0_-3744',\n",
              " 'x0_0',\n",
              " 'x0_-4',\n",
              " 'x0_3079612892',\n",
              " 'x0_4',\n",
              " 'x0_4',\n",
              " 'x0_4',\n",
              " 'x0_32',\n",
              " 'x0_12',\n",
              " 'x0_-3079607972',\n",
              " 'x0_-4',\n",
              " 'x0_-4',\n",
              " 'x0_-4',\n",
              " 'x0_-4',\n",
              " 'x0_-4',\n",
              " 'x0_4',\n",
              " 'x0_3079615976',\n",
              " 'x0_-3079615980',\n",
              " 'x0_-59764',\n",
              " 'x0_59765',\n",
              " 'x0_-59765',\n",
              " 'x0_59766',\n",
              " 'x0_4',\n",
              " 'x0_59767',\n",
              " 'x0_4',\n",
              " 'x0_4',\n",
              " 'x0_4',\n",
              " 'x0_3079674084',\n",
              " 'x0_4',\n",
              " 'x0_4',\n",
              " 'x0_4',\n",
              " 'x0_4',\n",
              " 'x0_4',\n",
              " 'x0_132',\n",
              " 'x0_0',\n",
              " 'x0_-124',\n",
              " 'x0_108',\n",
              " 'x0_-112',\n",
              " 'x0_-4',\n",
              " 'x0_-4',\n",
              " 'x0_-8',\n",
              " 'x0_4',\n",
              " 'x0_16',\n",
              " 'x0_-4',\n",
              " 'x0_-20',\n",
              " 'x0_-8',\n",
              " 'x0_-4',\n",
              " 'x0_-4',\n",
              " 'x0_-4',\n",
              " 'x0_-16',\n",
              " 'x0_28',\n",
              " 'x0_-32',\n",
              " 'x0_28',\n",
              " 'x0_-3079613196',\n",
              " 'x0_3079613164',\n",
              " 'x0_-4',\n",
              " 'x0_-4',\n",
              " 'x0_-4',\n",
              " 'x0_-4',\n",
              " 'x0_-4',\n",
              " 'x0_20',\n",
              " 'x0_4',\n",
              " 'x0_-3079613088',\n",
              " 'x0_3079613084',\n",
              " 'x0_-3079613080',\n",
              " 'x0_3079613032',\n",
              " 'x0_4',\n",
              " 'x0_-8',\n",
              " 'x0_-4',\n",
              " 'x0_-4',\n",
              " 'x0_12',\n",
              " 'x0_4',\n",
              " 'x0_-3079614209',\n",
              " 'x0_1',\n",
              " 'x0_1',\n",
              " 'x0_1',\n",
              " 'x0_1',\n",
              " 'x0_3079614189',\n",
              " 'x0_4',\n",
              " 'x0_4',\n",
              " 'x0_28',\n",
              " 'x0_24',\n",
              " 'x0_-24',\n",
              " 'x0_-3079613032',\n",
              " 'x0_20',\n",
              " 'x0_3079612996',\n",
              " 'x0_4',\n",
              " 'x0_3272',\n",
              " 'x0_3079609768',\n",
              " 'x0_4',\n",
              " 'x0_-8',\n",
              " 'x0_-4',\n",
              " 'x0_72028',\n",
              " 'x0_3079609788',\n",
              " 'x0_-4',\n",
              " 'x0_4',\n",
              " 'x0_4',\n",
              " 'x0_4',\n",
              " 'x0_28',\n",
              " 'x0_4',\n",
              " 'x0_0',\n",
              " 'x0_-4',\n",
              " 'x0_-4',\n",
              " 'x0_-4',\n",
              " 'x0_-16',\n",
              " 'x0_-4',\n",
              " 'x0_-3079608532',\n",
              " 'x0_4',\n",
              " 'x0_4',\n",
              " 'x0_-61640',\n",
              " 'x0_61656',\n",
              " 'x0_-61656',\n",
              " 'x0_61644',\n",
              " 'x0_4',\n",
              " 'x0_0',\n",
              " 'x0_-4',\n",
              " 'x0_3079608512',\n",
              " 'x0_-4',\n",
              " 'x0_-4',\n",
              " 'x0_-4',\n",
              " 'x0_-3079608392',\n",
              " 'x0_-4',\n",
              " 'x0_8',\n",
              " 'x0_3079608400',\n",
              " 'x0_4',\n",
              " 'x0_-3079670160',\n",
              " 'x0_61660',\n",
              " 'x0_-4',\n",
              " 'x0_8',\n",
              " 'x0_4',\n",
              " 'x0_4',\n",
              " 'x0_4',\n",
              " 'x0_4',\n",
              " 'x0_4',\n",
              " 'x0_4',\n",
              " 'x0_4',\n",
              " 'x0_4',\n",
              " 'x0_20',\n",
              " 'x0_20',\n",
              " 'x0_-8',\n",
              " 'x0_4',\n",
              " 'x0_12',\n",
              " 'x0_-4',\n",
              " 'x0_8',\n",
              " 'x0_4',\n",
              " 'x0_3079608428',\n",
              " 'x0_-3079615400',\n",
              " 'x0_3079615396',\n",
              " 'x0_-4',\n",
              " 'x0_-4',\n",
              " 'x0_-4',\n",
              " 'x0_-4',\n",
              " 'x0_20',\n",
              " 'x0_-3079608428',\n",
              " 'x0_3079608428',\n",
              " 'x0_-3079608428',\n",
              " 'x0_28',\n",
              " 'x0_3079607808',\n",
              " 'x0_-3079607836',\n",
              " 'x0_32',\n",
              " 'x0_3079608396',\n",
              " 'x0_-3079607836',\n",
              " 'x0_36',\n",
              " 'x0_3079608392',\n",
              " 'x0_-3079607836',\n",
              " 'x0_40',\n",
              " 'x0_3079607796',\n",
              " 'x0_-3079607836',\n",
              " 'x0_40',\n",
              " 'x0_3079607796',\n",
              " 'x0_-3079607836',\n",
              " 'x0_40',\n",
              " 'x0_3079607796',\n",
              " 'x0_-3079607836',\n",
              " 'x0_52',\n",
              " 'x0_3079608380',\n",
              " 'x0_-3079607836',\n",
              " 'x0_52',\n",
              " 'x0_3079608372',\n",
              " 'x0_-3079607836',\n",
              " 'x0_52',\n",
              " 'x0_3079608372',\n",
              " 'x0_-3079607836',\n",
              " 'x0_52',\n",
              " 'x0_-4',\n",
              " 'x0_-8',\n",
              " 'x0_-4',\n",
              " 'x0_-3079608312',\n",
              " 'x0_-4',\n",
              " 'x0_8',\n",
              " 'x0_3079607728',\n",
              " 'x0_4',\n",
              " 'x0_-3079607752',\n",
              " 'x0_3079607772',\n",
              " 'x0_-3079607836',\n",
              " 'x0_68',\n",
              " 'x0_3079607756',\n",
              " 'x0_4',\n",
              " 'x0_4',\n",
              " 'x0_-3079615392',\n",
              " 'x0_3079615396',\n",
              " 'x0_-3079618984',\n",
              " 'x0_3079618980',\n",
              " 'x0_-4',\n",
              " 'x0_-8',\n",
              " 'x0_-4',\n",
              " 'x0_20',\n",
              " 'x0_-3079607852',\n",
              " 'x0_108',\n",
              " 'x0_8',\n",
              " 'x0_3079608320',\n",
              " 'x0_4',\n",
              " 'x0_-3079618976',\n",
              " 'x0_3079618980',\n",
              " 'x0_-3079619856',\n",
              " 'x0_3079619852',\n",
              " 'x0_-4',\n",
              " 'x0_8',\n",
              " 'x0_-3079607864',\n",
              " 'x0_3079607856',\n",
              " 'x0_4',\n",
              " 'x0_-3079619848',\n",
              " 'x0_3079619852',\n",
              " 'x0_-3079620784',\n",
              " 'x0_3079620780',\n",
              " 'x0_-4',\n",
              " 'x0_-8',\n",
              " 'x0_-4',\n",
              " 'x0_20',\n",
              " 'x0_-3079607868',\n",
              " 'x0_188',\n",
              " 'x0_4',\n",
              " 'x0_4',\n",
              " 'x0_3079607664',\n",
              " 'x0_4',\n",
              " 'x0_-3079620776',\n",
              " 'x0_3079620780',\n",
              " 'x0_-3079621056',\n",
              " 'x0_3079621052',\n",
              " 'x0_-4',\n",
              " 'x0_-8',\n",
              " 'x0_12',\n",
              " 'x0_-16',\n",
              " 'x0_-4',\n",
              " 'x0_-3079608176',\n",
              " 'x0_-60',\n",
              " 'x0_4',\n",
              " 'x0_4',\n",
              " 'x0_8',\n",
              " 'x0_8',\n",
              " 'x0_8',\n",
              " 'x0_4',\n",
              " 'x0_8',\n",
              " 'x0_8',\n",
              " 'x0_4',\n",
              " 'x0_8',\n",
              " 'x0_4',\n",
              " 'x0_-260',\n",
              " 'x0_3079607844',\n",
              " 'x0_4',\n",
              " 'x0_4',\n",
              " 'x0_-3079621048',\n",
              " 'x0_3079621052',\n",
              " 'x0_-3079622200',\n",
              " 'x0_3079622196',\n",
              " 'x0_-4',\n",
              " 'x0_-8',\n",
              " 'x0_-4',\n",
              " 'x0_20',\n",
              " 'x0_-3079608452',\n",
              " 'x0_280',\n",
              " 'x0_-4',\n",
              " 'x0_3079607576',\n",
              " 'x0_4',\n",
              " 'x0_-3079622192',\n",
              " 'x0_3079622196',\n",
              " 'x0_-3079623872',\n",
              " 'x0_3079623868',\n",
              " 'x0_-4',\n",
              " 'x0_-8',\n",
              " 'x0_-4',\n",
              " 'x0_20',\n",
              " 'x0_-3079607876',\n",
              " 'x0_368',\n",
              " 'x0_4',\n",
              " 'x0_4',\n",
              " 'x0_4',\n",
              " 'x0_16',\n",
              " 'x0_3079608080',\n",
              " 'x0_4',\n",
              " 'x0_-3079623864',\n",
              " 'x0_3079623868',\n",
              " 'x0_-3079624616',\n",
              " 'x0_3079624612',\n",
              " 'x0_-4',\n",
              " 'x0_8',\n",
              " 'x0_-3079607880',\n",
              " 'x0_3079608464',\n",
              " 'x0_4',\n",
              " 'x0_-3079624608',\n",
              " 'x0_3079624628',\n",
              " 'x0_4',\n",
              " 'x0_4',\n",
              " 'x0_4',\n",
              " 'x0_4',\n",
              " 'x0_-4',\n",
              " 'x0_-3079607972',\n",
              " 'x0_3079608572',\n",
              " 'x0_-4',\n",
              " 'x0_-4',\n",
              " 'x0_-4',\n",
              " 'x0_-4',\n",
              " 'x0_-4',\n",
              " 'x0_20',\n",
              " 'x0_24',\n",
              " 'x0_-4',\n",
              " 'x0_-3079608560',\n",
              " 'x0_0',\n",
              " 'x0_-8',\n",
              " 'x0_4',\n",
              " 'x0_3079608516',\n",
              " 'x0_-4',\n",
              " 'x0_-4',\n",
              " 'x0_-4',\n",
              " 'x0_4',\n",
              " 'x0_4',\n",
              " 'x0_-3079670144',\n",
              " 'x0_3079670156',\n",
              " 'x0_-3079608516',\n",
              " 'x0_-245562',\n",
              " 'x0_3079854030',\n",
              " 'x0_-4',\n",
              " 'x0_-3079608464',\n",
              " 'x0_3079608476',\n",
              " 'x0_-4',\n",
              " 'x0_-4',\n",
              " 'x0_-4',\n",
              " 'x0_-3079682096',\n",
              " 'x0_3079682092',\n",
              " 'x0_-4',\n",
              " 'x0_-4',\n",
              " 'x0_-4',\n",
              " 'x0_24',\n",
              " 'x0_-36',\n",
              " 'x0_0',\n",
              " 'x0_0',\n",
              " 'x0_8',\n",
              " 'x0_24',\n",
              " 'x0_-28',\n",
              " 'x0_-4',\n",
              " 'x0_-4',\n",
              " 'x0_-12',\n",
              " 'x0_-184',\n",
              " 'x0_0',\n",
              " 'x0_0',\n",
              " 'x0_188',\n",
              " 'x0_16',\n",
              " 'x0_-12',\n",
              " 'x0_-96',\n",
              " 'x0_-76',\n",
              " 'x0_-4',\n",
              " 'x0_-4',\n",
              " 'x0_-4',\n",
              " 'x0_-4',\n",
              " 'x0_-4',\n",
              " 'x0_-4',\n",
              " 'x0_12',\n",
              " 'x0_-24',\n",
              " 'x0_-12',\n",
              " 'x0_0',\n",
              " 'x0_0',\n",
              " 'x0_16',\n",
              " 'x0_24',\n",
              " 'x0_-32',\n",
              " 'x0_24',\n",
              " 'x0_-12',\n",
              " 'x0_24',\n",
              " 'x0_-40',\n",
              " 'x0_-4',\n",
              " 'x0_-4',\n",
              " 'x0_12',\n",
              " 'x0_-4',\n",
              " 'x0_48',\n",
              " 'x0_60',\n",
              " 'x0_-32',\n",
              " 'x0_4',\n",
              " 'x0_-20',\n",
              " 'x0_-8',\n",
              " 'x0_4',\n",
              " 'x0_8',\n",
              " 'x0_4',\n",
              " 'x0_4',\n",
              " 'x0_28',\n",
              " 'x0_-16',\n",
              " 'x0_4',\n",
              " 'x0_4',\n",
              " 'x0_4',\n",
              " 'x0_20',\n",
              " 'x0_2',\n",
              " 'x0_2',\n",
              " 'x0_-128',\n",
              " 'x0_4',\n",
              " 'x0_32',\n",
              " 'x0_124',\n",
              " 'x0_-12',\n",
              " 'x0_-132',\n",
              " 'x0_4',\n",
              " 'x0_4',\n",
              " 'x0_4',\n",
              " 'x0_4',\n",
              " 'x0_172',\n",
              " 'x0_-156',\n",
              " 'x0_-8',\n",
              " 'x0_4',\n",
              " 'x0_-8',\n",
              " 'x0_-4',\n",
              " 'x0_-4',\n",
              " 'x0_16',\n",
              " 'x0_-28',\n",
              " 'x0_-20',\n",
              " 'x0_0',\n",
              " 'x0_0',\n",
              " 'x0_28',\n",
              " 'x0_12',\n",
              " 'x0_-16',\n",
              " 'x0_20',\n",
              " 'x0_0',\n",
              " 'x0_0',\n",
              " 'x0_-28',\n",
              " 'x0_-4',\n",
              " 'x0_-8',\n",
              " 'x0_4',\n",
              " 'x0_-8',\n",
              " 'x0_-4',\n",
              " 'x0_-4',\n",
              " 'x0_12',\n",
              " 'x0_-16',\n",
              " 'x0_-12',\n",
              " 'x0_0',\n",
              " 'x0_0',\n",
              " 'x0_112',\n",
              " 'x0_-80',\n",
              " 'x0_80',\n",
              " 'x0_-76',\n",
              " 'x0_80',\n",
              " 'x0_-76',\n",
              " 'x0_44',\n",
              " 'x0_0',\n",
              " 'x0_-72',\n",
              " 'x0_4',\n",
              " 'x0_4',\n",
              " 'x0_4',\n",
              " 'x0_44',\n",
              " 'x0_32',\n",
              " 'x0_-4',\n",
              " 'x0_-8',\n",
              " 'x0_-12',\n",
              " 'x0_0',\n",
              " 'x0_32',\n",
              " 'x0_-4',\n",
              " 'x0_-12',\n",
              " 'x0_144',\n",
              " 'x0_-192',\n",
              " 'x0_4',\n",
              " 'x0_4',\n",
              " 'x0_4',\n",
              " 'x0_4',\n",
              " 'x0_212',\n",
              " 'x0_-208',\n",
              " 'x0_8',\n",
              " 'x0_196',\n",
              " 'x0_-200',\n",
              " 'x0_-8',\n",
              " 'x0_-4',\n",
              " 'x0_-4',\n",
              " 'x0_-4',\n",
              " 'x0_-4',\n",
              " 'x0_-4',\n",
              " 'x0_0',\n",
              " 'x0_0',\n",
              " 'x0_24',\n",
              " 'x0_-161745040',\n",
              " 'x0_161743636',\n",
              " 'x0_1494',\n",
              " 'x0_-161745338',\n",
              " 'x0_161745372',\n",
              " 'x0_-124',\n",
              " 'x0_124',\n",
              " 'x0_-124',\n",
              " 'x0_20',\n",
              " 'x0_-16',\n",
              " 'x0_-4',\n",
              " 'x0_90',\n",
              " 'x0_-161745338',\n",
              " ...]"
            ]
          },
          "metadata": {
            "tags": []
          },
          "execution_count": 40
        }
      ]
    },
    {
      "cell_type": "code",
      "metadata": {
        "id": "ROeXW3uiYYXz",
        "colab_type": "code",
        "colab": {}
      },
      "source": [
        "#We turn the values into integers\n",
        "\n",
        "for i in range(0,predictions.shape[0]):\n",
        "  maximums[i] = maximums[i].replace('x0_', '')\n",
        "  maximums[i] = int(maximums[i])"
      ],
      "execution_count": 41,
      "outputs": []
    },
    {
      "cell_type": "code",
      "metadata": {
        "id": "lnlHWtw1ZvLj",
        "colab_type": "code",
        "colab": {
          "base_uri": "https://localhost:8080/",
          "height": 51
        },
        "outputId": "662c8b31-7f92-4226-e679-954ce510e500"
      },
      "source": [
        "maximums = np.array(maximums)\n",
        "maximums"
      ],
      "execution_count": 42,
      "outputs": [
        {
          "output_type": "execute_result",
          "data": {
            "text/plain": [
              "array([        112,         -80,          80, ..., -3079613032,\n",
              "                20,  3079612996])"
            ]
          },
          "metadata": {
            "tags": []
          },
          "execution_count": 42
        }
      ]
    },
    {
      "cell_type": "code",
      "metadata": {
        "id": "PEjwbnVmatAu",
        "colab_type": "code",
        "colab": {}
      },
      "source": [
        "for i in range(0,len(maximums)-1):\n",
        "  maximums[i] =  res[training_data_len + 999 + i+1] - maximums[i]"
      ],
      "execution_count": 43,
      "outputs": []
    },
    {
      "cell_type": "code",
      "metadata": {
        "id": "YRS5zk2Zf3bD",
        "colab_type": "code",
        "colab": {
          "base_uri": "https://localhost:8080/",
          "height": 51
        },
        "outputId": "f631fc04-a626-4e52-8195-e58ca0664902"
      },
      "source": [
        "maximums"
      ],
      "execution_count": 44,
      "outputs": [
        {
          "output_type": "execute_result",
          "data": {
            "text/plain": [
              "array([3216123932, 3216124044, 3216123964, ..., 3216124264,  136511256,\n",
              "       3079612996])"
            ]
          },
          "metadata": {
            "tags": []
          },
          "execution_count": 44
        }
      ]
    },
    {
      "cell_type": "code",
      "metadata": {
        "id": "nBlBFu3ngByu",
        "colab_type": "code",
        "colab": {
          "base_uri": "https://localhost:8080/",
          "height": 34
        },
        "outputId": "6e56f2c2-4d62-4523-cec4-4266f692559a"
      },
      "source": [
        "#Count is the number of correct guesses we got for our testing dataset \n",
        "\n",
        "\n",
        "count =0\n",
        "for i in range(0,len(y_test)):\n",
        "  if y_test[i] == maximums[i]:\n",
        "    count = count + 1\n",
        "print(count/(len(y_test))*100)\n",
        "\n",
        "#The number below is the hit rate"
      ],
      "execution_count": 46,
      "outputs": [
        {
          "output_type": "stream",
          "text": [
            "78.11956521739131\n"
          ],
          "name": "stdout"
        }
      ]
    },
    {
      "cell_type": "code",
      "metadata": {
        "colab_type": "code",
        "id": "kjJ47m7W3_fq",
        "colab": {
          "base_uri": "https://localhost:8080/",
          "height": 71
        },
        "outputId": "fc7685ea-10da-4ce6-ecf9-b38c4a843364"
      },
      "source": [
        "print(history.history['loss'])\n",
        "print(history.history['val_loss'])\n"
      ],
      "execution_count": 47,
      "outputs": [
        {
          "output_type": "stream",
          "text": [
            "[4.8033857345581055, 3.8964221477508545, 3.524921178817749, 3.2497270107269287, 3.026869058609009, 2.8650882244110107, 2.7207229137420654, 2.5971081256866455, 2.5073962211608887, 2.4179069995880127, 2.3328099250793457, 2.2478115558624268, 2.158125877380371, 2.080136299133301, 1.9983150959014893, 1.9258400201797485, 1.8552519083023071, 1.7899212837219238, 1.7249348163604736, 1.6727482080459595, 1.6227577924728394, 1.5712958574295044, 1.5151417255401611, 1.4637432098388672, 1.4130451679229736, 1.375810980796814, 1.3302631378173828, 1.30161714553833, 1.2684406042099, 1.2315980195999146, 1.2175817489624023, 1.1781713962554932, 1.1693782806396484, 1.1435405015945435, 1.1166502237319946, 1.0917969942092896, 1.0860567092895508, 1.0808987617492676, 1.0672212839126587, 1.0495100021362305, 1.0350143909454346, 1.0153440237045288, 1.0028703212738037, 0.9925784468650818, 0.976266086101532, 0.9605761766433716, 0.9566385746002197, 0.9496559500694275, 0.9340852499008179, 0.9395700097084045, 0.9285985231399536, 0.9080613255500793, 0.8990963697433472, 0.8967759609222412, 0.9026247262954712, 0.8876307606697083, 0.8753082752227783, 0.865833580493927, 0.8542512655258179, 0.8472522497177124, 0.8533377647399902, 0.8408070206642151, 0.8236513733863831, 0.8267120122909546]\n",
            "[5.763731002807617, 5.848658561706543, 5.86093807220459, 5.852938652038574, 5.631598949432373, 5.497803211212158, 5.175689220428467, 4.953219413757324, 4.823289394378662, 4.686230182647705, 4.575280666351318, 4.354409694671631, 4.229279518127441, 4.1007304191589355, 3.998955011367798, 3.9430105686187744, 3.882162094116211, 3.832770347595215, 3.7314133644104004, 3.7149577140808105, 3.70147967338562, 3.6702840328216553, 3.614384651184082, 3.6064014434814453, 3.5404019355773926, 3.574190616607666, 3.493067502975464, 3.4667391777038574, 3.504061222076416, 3.506183624267578, 3.4602737426757812, 3.4642996788024902, 3.4710934162139893, 3.4904656410217285, 3.4899253845214844, 3.4951233863830566, 3.4717211723327637, 3.546478509902954, 3.4987804889678955, 3.4924073219299316, 3.516450881958008, 3.5521199703216553, 3.5260698795318604, 3.5436692237854004, 3.5605039596557617, 3.5470738410949707, 3.5458383560180664, 3.538783550262451, 3.5683159828186035, 3.5979151725769043, 3.595989465713501, 3.58914852142334, 3.6039059162139893, 3.608093023300171, 3.638509750366211, 3.6298723220825195, 3.6548657417297363, 3.673605442047119, 3.653249502182007, 3.6779870986938477, 3.6423399448394775, 3.693314790725708, 3.6277859210968018, 3.6879100799560547]\n"
          ],
          "name": "stdout"
        }
      ]
    },
    {
      "cell_type": "code",
      "metadata": {
        "colab_type": "code",
        "id": "gmuD1EFO46So",
        "colab": {
          "base_uri": "https://localhost:8080/",
          "height": 295
        },
        "outputId": "39e8ffd5-a4bc-4e0f-a675-d5fc0beb0880"
      },
      "source": [
        "#Loss is not really the metric we are interested in testing when it comes to classification\n",
        "\n",
        "plt.plot(history.history['loss'])\n",
        "plt.plot(history.history['val_loss'])\n",
        "plt.title('model train vs validation loss')\n",
        "plt.ylabel('loss')\n",
        "plt.xlabel('epoch')\n",
        "plt.legend(['train', 'validation','accuracy'], loc='upper right')\n",
        "plt.show()"
      ],
      "execution_count": 80,
      "outputs": [
        {
          "output_type": "display_data",
          "data": {
            "image/png": "[encoded data removed]",
            "text/plain": [
              "<Figure size 432x288 with 1 Axes>"
            ]
          },
          "metadata": {
            "tags": [],
            "needs_background": "light"
          }
        }
      ]
    },
    {
      "cell_type": "code",
      "metadata": {
        "id": "5QrACvuYqCcA",
        "colab_type": "code",
        "colab": {
          "base_uri": "https://localhost:8080/",
          "height": 54
        },
        "outputId": "687fab7d-411d-4c29-c0e9-537588c27f51"
      },
      "source": [
        "print(history.history['accuracy'])"
      ],
      "execution_count": 83,
      "outputs": [
        {
          "output_type": "stream",
          "text": [
            "[0.17329999804496765, 0.3504999876022339, 0.4361500144004822, 0.49665001034736633, 0.529449999332428, 0.5479000210762024, 0.5579249858856201, 0.5655999779701233, 0.5706250071525574, 0.5773500204086304, 0.5824249982833862, 0.5922750234603882, 0.6011250019073486, 0.6063500046730042, 0.6151000261306763, 0.6242499947547913, 0.6337500214576721, 0.641700029373169, 0.6501749753952026, 0.6592749953269958, 0.6655750274658203, 0.672124981880188, 0.6813499927520752, 0.6879749894142151, 0.6948249936103821, 0.6998500227928162, 0.7075499892234802, 0.713949978351593, 0.7182750105857849, 0.723924994468689, 0.7258750200271606, 0.7318249940872192, 0.734000027179718, 0.7368249893188477, 0.7408750057220459, 0.7473499774932861, 0.7459499835968018, 0.7452999949455261, 0.7490749955177307, 0.75204998254776, 0.7546250224113464, 0.7572500109672546, 0.7596750259399414, 0.7601500153541565, 0.764074981212616, 0.7669000029563904, 0.7651500105857849, 0.7692750096321106, 0.7712000012397766, 0.7703499794006348, 0.7721750140190125, 0.777999997138977, 0.7785000205039978, 0.778124988079071, 0.777649998664856, 0.7799999713897705, 0.7814499735832214, 0.7836499810218811, 0.7857750058174133, 0.7872499823570251, 0.7858750224113464, 0.7892000079154968, 0.7906249761581421, 0.7922999858856201]\n"
          ],
          "name": "stdout"
        }
      ]
    },
    {
      "cell_type": "code",
      "metadata": {
        "id": "jFDivc0wpdqN",
        "colab_type": "code",
        "colab": {
          "base_uri": "https://localhost:8080/",
          "height": 295
        },
        "outputId": "2052f8bd-4405-44d5-a8bd-88b800afc044"
      },
      "source": [
        "#Accuracy is the metric we are aiming for\n",
        "plt.plot(history.history['accuracy'])\n",
        "plt.title('accuracy of model')\n",
        "plt.xlabel('epoch')\n",
        "plt.ylabel('loss')\n",
        "plt.legend(['accuracy'], loc='upper right')\n",
        "plt.show()"
      ],
      "execution_count": 81,
      "outputs": [
        {
          "output_type": "display_data",
          "data": {
            "image/png": "[encoded data removed]",
            "text/plain": [
              "<Figure size 432x288 with 1 Axes>"
            ]
          },
          "metadata": {
            "tags": [],
            "needs_background": "light"
          }
        }
      ]
    },
    {
      "cell_type": "code",
      "metadata": {
        "colab_type": "code",
        "id": "jJhl7YIBcRwD",
        "colab": {
          "base_uri": "https://localhost:8080/",
          "height": 34
        },
        "outputId": "17151cdb-fb74-4185-a3a7-a0de99031fb9"
      },
      "source": [
        "#Again, rmse is a bit irrelevant when it comes to classification\n",
        "\n",
        "rmse=np.sqrt(np.mean(((predictions- y_test)**2)))\n",
        "rmse"
      ],
      "execution_count": 82,
      "outputs": [
        {
          "output_type": "execute_result",
          "data": {
            "text/plain": [
              "2771347451.8008304"
            ]
          },
          "metadata": {
            "tags": []
          },
          "execution_count": 82
        }
      ]
    },
    {
      "cell_type": "code",
      "metadata": {
        "colab_type": "code",
        "id": "HntFpVuccRwF",
        "colab": {
          "base_uri": "https://localhost:8080/",
          "height": 419
        },
        "outputId": "b392c374-5017-403c-cafa-1cbd7b39d848"
      },
      "source": [
        "#We load the dataset to predict the values of the empty cells and we follow a similar procedure\n",
        "\n",
        "df_test = pd.read_excel('memrefs_testing_Sept.xlsx', header = None)\n",
        "df_test"
      ],
      "execution_count": 50,
      "outputs": [
        {
          "output_type": "execute_result",
          "data": {
            "text/html": [
              "<div>\n",
              "<style scoped>\n",
              "    .dataframe tbody tr th:only-of-type {\n",
              "        vertical-align: middle;\n",
              "    }\n",
              "\n",
              "    .dataframe tbody tr th {\n",
              "        vertical-align: top;\n",
              "    }\n",
              "\n",
              "    .dataframe thead th {\n",
              "        text-align: right;\n",
              "    }\n",
              "</style>\n",
              "<table border=\"1\" class=\"dataframe\">\n",
              "  <thead>\n",
              "    <tr style=\"text-align: right;\">\n",
              "      <th></th>\n",
              "      <th>0</th>\n",
              "    </tr>\n",
              "  </thead>\n",
              "  <tbody>\n",
              "    <tr>\n",
              "      <th>0</th>\n",
              "      <td>0xbfb229b4</td>\n",
              "    </tr>\n",
              "    <tr>\n",
              "      <th>1</th>\n",
              "      <td>0xbfb229b8</td>\n",
              "    </tr>\n",
              "    <tr>\n",
              "      <th>2</th>\n",
              "      <td>0xbfb229bc</td>\n",
              "    </tr>\n",
              "    <tr>\n",
              "      <th>3</th>\n",
              "      <td>0xbfb22a74</td>\n",
              "    </tr>\n",
              "    <tr>\n",
              "      <th>4</th>\n",
              "      <td>0x8249704</td>\n",
              "    </tr>\n",
              "    <tr>\n",
              "      <th>...</th>\n",
              "      <td>...</td>\n",
              "    </tr>\n",
              "    <tr>\n",
              "      <th>49945</th>\n",
              "      <td>0xbfb22998</td>\n",
              "    </tr>\n",
              "    <tr>\n",
              "      <th>49946</th>\n",
              "      <td>0xbfb22994</td>\n",
              "    </tr>\n",
              "    <tr>\n",
              "      <th>49947</th>\n",
              "      <td>0xbfb22990</td>\n",
              "    </tr>\n",
              "    <tr>\n",
              "      <th>49948</th>\n",
              "      <td>0xbfb229a0</td>\n",
              "    </tr>\n",
              "    <tr>\n",
              "      <th>49949</th>\n",
              "      <td>0x822f810</td>\n",
              "    </tr>\n",
              "  </tbody>\n",
              "</table>\n",
              "<p>49950 rows × 1 columns</p>\n",
              "</div>"
            ],
            "text/plain": [
              "                0\n",
              "0      0xbfb229b4\n",
              "1      0xbfb229b8\n",
              "2      0xbfb229bc\n",
              "3      0xbfb22a74\n",
              "4       0x8249704\n",
              "...           ...\n",
              "49945  0xbfb22998\n",
              "49946  0xbfb22994\n",
              "49947  0xbfb22990\n",
              "49948  0xbfb229a0\n",
              "49949   0x822f810\n",
              "\n",
              "[49950 rows x 1 columns]"
            ]
          },
          "metadata": {
            "tags": []
          },
          "execution_count": 50
        }
      ]
    },
    {
      "cell_type": "code",
      "metadata": {
        "colab_type": "code",
        "id": "Jllh-lWCcRwG",
        "colab": {
          "base_uri": "https://localhost:8080/",
          "height": 221
        },
        "outputId": "da1ed7fb-8c32-4cd9-f47f-9463a2560112"
      },
      "source": [
        "test_res = df_test[0].apply(int, base=16)\n",
        "print(test_res)"
      ],
      "execution_count": 51,
      "outputs": [
        {
          "output_type": "stream",
          "text": [
            "0        3216124340\n",
            "1        3216124344\n",
            "2        3216124348\n",
            "3        3216124532\n",
            "4         136615684\n",
            "            ...    \n",
            "49945    3216124312\n",
            "49946    3216124308\n",
            "49947    3216124304\n",
            "49948    3216124320\n",
            "49949     136509456\n",
            "Name: 0, Length: 49950, dtype: int64\n"
          ],
          "name": "stdout"
        }
      ]
    },
    {
      "cell_type": "code",
      "metadata": {
        "colab_type": "code",
        "id": "IZuTEKOJcRwI",
        "colab": {
          "base_uri": "https://localhost:8080/",
          "height": 51
        },
        "outputId": "aca2a2f1-7e5e-4f82-9a01-9c7214fe6fc8"
      },
      "source": [
        "test_array = np.array(test_res)\n",
        "test_array"
      ],
      "execution_count": 52,
      "outputs": [
        {
          "output_type": "execute_result",
          "data": {
            "text/plain": [
              "array([3216124340, 3216124344, 3216124348, ..., 3216124304, 3216124320,\n",
              "        136509456])"
            ]
          },
          "metadata": {
            "tags": []
          },
          "execution_count": 52
        }
      ]
    },
    {
      "cell_type": "code",
      "metadata": {
        "id": "b43WLOMKjp64",
        "colab_type": "code",
        "colab": {}
      },
      "source": [
        "#Differences\n",
        "\n",
        "test_diff = list()\n",
        "for i in range(1, len(test_array)):\n",
        "    value = test_array[i] - test_array[i - 1]\n",
        "    test_diff.append(value)"
      ],
      "execution_count": 53,
      "outputs": []
    },
    {
      "cell_type": "code",
      "metadata": {
        "id": "GiOIAS9WvN9Z",
        "colab_type": "code",
        "colab": {}
      },
      "source": [
        "#We add the -4 as one of the values of the differences that most commonly occurs, because the last value of the difference dataset does not exist (it doesn't have a next value to be subtracted from)\n",
        "\n",
        "test_diff.append(-4)"
      ],
      "execution_count": 54,
      "outputs": []
    },
    {
      "cell_type": "code",
      "metadata": {
        "id": "vhxaviT1u1l5",
        "colab_type": "code",
        "colab": {}
      },
      "source": [
        "test_diff =  pd.Series(test_diff) "
      ],
      "execution_count": 55,
      "outputs": []
    },
    {
      "cell_type": "code",
      "metadata": {
        "id": "BcHLMBzQup5M",
        "colab_type": "code",
        "colab": {
          "base_uri": "https://localhost:8080/",
          "height": 884
        },
        "outputId": "9ceb55a3-e041-4813-9ac0-d589fc14b1be"
      },
      "source": [
        "test_values_count = test_diff.value_counts()\n",
        "test_values_count.head(50)"
      ],
      "execution_count": 56,
      "outputs": [
        {
          "output_type": "execute_result",
          "data": {
            "text/plain": [
              " 4             7668\n",
              "-4             6793\n",
              " 0             4298\n",
              "-8             1718\n",
              " 12             859\n",
              "-12             810\n",
              " 88             717\n",
              " 20             707\n",
              " 72             701\n",
              " 16             690\n",
              " 8              666\n",
              "-32             557\n",
              " 24             544\n",
              " 28             436\n",
              " 1              421\n",
              "-80             370\n",
              " 84             359\n",
              "-152            332\n",
              "-3079682104     321\n",
              "-3079614864     321\n",
              " 3079614696     320\n",
              " 3079682100     320\n",
              "-3079682028     296\n",
              " 3079682024     296\n",
              " 163196680      296\n",
              "-1451040        296\n",
              "-161745640      296\n",
              "-163196684      295\n",
              "-28             294\n",
              "-16             259\n",
              " 32             254\n",
              "-36             234\n",
              "-20             205\n",
              " 40             191\n",
              " 36             155\n",
              "-24             154\n",
              " 52             152\n",
              "-3079681768     151\n",
              " 44             141\n",
              "-40             126\n",
              " 124            125\n",
              "-3079613088     120\n",
              "-3079613072     100\n",
              " 64              99\n",
              " 392             98\n",
              "-3079612984      98\n",
              "-48              94\n",
              "-52              94\n",
              "-3079681784      92\n",
              "-76              91\n",
              "dtype: int64"
            ]
          },
          "metadata": {
            "tags": []
          },
          "execution_count": 56
        }
      ]
    },
    {
      "cell_type": "code",
      "metadata": {
        "id": "adojKWrnkNUs",
        "colab_type": "code",
        "colab": {}
      },
      "source": [
        "test_diff = np.array(test_diff)"
      ],
      "execution_count": 57,
      "outputs": []
    },
    {
      "cell_type": "code",
      "metadata": {
        "id": "qhRGg6ddkXvE",
        "colab_type": "code",
        "colab": {
          "base_uri": "https://localhost:8080/",
          "height": 51
        },
        "outputId": "dd560266-e467-44f9-c278-96d746a07986"
      },
      "source": [
        "test_diff"
      ],
      "execution_count": 58,
      "outputs": [
        {
          "output_type": "execute_result",
          "data": {
            "text/plain": [
              "array([          4,           4,         184, ...,          16,\n",
              "       -3079614864,          -4])"
            ]
          },
          "metadata": {
            "tags": []
          },
          "execution_count": 58
        }
      ]
    },
    {
      "cell_type": "code",
      "metadata": {
        "colab_type": "code",
        "id": "8nMF2I__cRwK",
        "colab": {}
      },
      "source": [
        "test_diff = test_diff.reshape(-1,1)"
      ],
      "execution_count": 59,
      "outputs": []
    },
    {
      "cell_type": "code",
      "metadata": {
        "id": "B70Etz0zjIVM",
        "colab_type": "code",
        "colab": {
          "base_uri": "https://localhost:8080/",
          "height": 34
        },
        "outputId": "669b21e4-035b-44f7-d067-4af221c9c0b5"
      },
      "source": [
        "np.shape(test_diff)"
      ],
      "execution_count": 60,
      "outputs": [
        {
          "output_type": "execute_result",
          "data": {
            "text/plain": [
              "(49950, 1)"
            ]
          },
          "metadata": {
            "tags": []
          },
          "execution_count": 60
        }
      ]
    },
    {
      "cell_type": "code",
      "metadata": {
        "colab_type": "code",
        "id": "coD87rKaGdfb",
        "colab": {}
      },
      "source": [
        "#We create the dataset that we will use for the prediction by keeping the first 999 values and then predicting the 1000th, then keeping the next 1000 values (1001-1999 in the excel doc) and predicting the 2000th value and so on\n",
        "\n",
        "test_predictions = []\n",
        "for i in range(0,len(test_diff),999):\n",
        "    test_predictions.append(test_diff[i:(i+999)])"
      ],
      "execution_count": 61,
      "outputs": []
    },
    {
      "cell_type": "code",
      "metadata": {
        "id": "MrHldgeSsamI",
        "colab_type": "code",
        "colab": {
          "base_uri": "https://localhost:8080/",
          "height": 34
        },
        "outputId": "a8685e81-9799-4f91-fbe5-69e91c0df2ae"
      },
      "source": [
        "len(test_diff)"
      ],
      "execution_count": 63,
      "outputs": [
        {
          "output_type": "execute_result",
          "data": {
            "text/plain": [
              "49950"
            ]
          },
          "metadata": {
            "tags": []
          },
          "execution_count": 63
        }
      ]
    },
    {
      "cell_type": "code",
      "metadata": {
        "id": "_j_dxjf0pWmy",
        "colab_type": "code",
        "colab": {
          "base_uri": "https://localhost:8080/",
          "height": 34
        },
        "outputId": "c4fae537-e48e-4f61-90d5-4cda27f10f5c"
      },
      "source": [
        "np.shape(test_predictions)"
      ],
      "execution_count": 64,
      "outputs": [
        {
          "output_type": "execute_result",
          "data": {
            "text/plain": [
              "(50, 999, 1)"
            ]
          },
          "metadata": {
            "tags": []
          },
          "execution_count": 64
        }
      ]
    },
    {
      "cell_type": "code",
      "metadata": {
        "colab_type": "code",
        "id": "gCTIGP8xHZnw",
        "colab": {}
      },
      "source": [
        "test_predictions = np.array(test_predictions)"
      ],
      "execution_count": 65,
      "outputs": []
    },
    {
      "cell_type": "code",
      "metadata": {
        "colab_type": "code",
        "id": "MsPwaO2vH-qr",
        "colab": {}
      },
      "source": [
        "test_predictions = np.reshape(test_predictions, newshape = (test_predictions.shape[0],test_predictions.shape[1],1))\n"
      ],
      "execution_count": 66,
      "outputs": []
    },
    {
      "cell_type": "code",
      "metadata": {
        "colab_type": "code",
        "id": "CItDTiyNIE5R",
        "colab": {
          "base_uri": "https://localhost:8080/",
          "height": 34
        },
        "outputId": "582ce369-52b0-42a9-9b23-f79f812894af"
      },
      "source": [
        "np.shape(test_predictions)"
      ],
      "execution_count": 67,
      "outputs": [
        {
          "output_type": "execute_result",
          "data": {
            "text/plain": [
              "(50, 999, 1)"
            ]
          },
          "metadata": {
            "tags": []
          },
          "execution_count": 67
        }
      ]
    },
    {
      "cell_type": "code",
      "metadata": {
        "colab_type": "code",
        "id": "GK4Ra8N8ILp1",
        "colab": {}
      },
      "source": [
        "results = model.predict(test_predictions) "
      ],
      "execution_count": 68,
      "outputs": []
    },
    {
      "cell_type": "code",
      "metadata": {
        "colab_type": "code",
        "id": "zmrVAIelIY60",
        "colab": {
          "base_uri": "https://localhost:8080/",
          "height": 34
        },
        "outputId": "9ecee0b1-8ff8-4ceb-9840-e9b77cbe86a7"
      },
      "source": [
        "np.shape(results)"
      ],
      "execution_count": 69,
      "outputs": [
        {
          "output_type": "execute_result",
          "data": {
            "text/plain": [
              "(50, 5958)"
            ]
          },
          "metadata": {
            "tags": []
          },
          "execution_count": 69
        }
      ]
    },
    {
      "cell_type": "code",
      "metadata": {
        "id": "1v5Z2s_pzQ28",
        "colab_type": "code",
        "colab": {
          "base_uri": "https://localhost:8080/",
          "height": 357
        },
        "outputId": "e734b151-6392-43bd-bf15-b7d06ce46fe6"
      },
      "source": [
        "#The results are one-hot encoded\n",
        "\n",
        "results"
      ],
      "execution_count": 70,
      "outputs": [
        {
          "output_type": "execute_result",
          "data": {
            "text/plain": [
              "array([[0.00000000000003403161     , 0.000000000000008866591    ,\n",
              "        0.00000000000001130396     , ..., 0.0000000000000073043175   ,\n",
              "        0.000000000000031382615    , 0.000000000000013524553    ],\n",
              "       [0.0000000005019307         , 0.0000000011354717         ,\n",
              "        0.0000000015096766         , ..., 0.00000000000008516058     ,\n",
              "        0.000000000000073285       , 0.000000000000033888043    ],\n",
              "       [0.0000000000014095734      , 0.0000000000000061490547   ,\n",
              "        0.000000000007802483       , ..., 0.0000000000024193657      ,\n",
              "        0.0000000000034601256      , 0.0000000000026019102      ],\n",
              "       ...,\n",
              "       [0.000000000007372208       , 0.000000000000005768751    ,\n",
              "        0.0000000000066406876      , ..., 0.000000000000027531146    ,\n",
              "        0.0000000000002389313      , 0.000000000000058493805    ],\n",
              "       [0.000000000000005696033    , 0.00000000000000040411095  ,\n",
              "        0.0000000000000018383014   , ..., 0.00000000000033999114     ,\n",
              "        0.0000000000003769048      , 0.00000000000006774178     ],\n",
              "       [0.00000000000000030973335  , 0.0000000000000000012269488,\n",
              "        0.00000000000016955578     , ..., 0.0000000000000000020014125,\n",
              "        0.000000000000000033476476 , 0.000000000000000036966983 ]],\n",
              "      dtype=float32)"
            ]
          },
          "metadata": {
            "tags": []
          },
          "execution_count": 70
        }
      ]
    },
    {
      "cell_type": "code",
      "metadata": {
        "colab_type": "code",
        "id": "vvV1VDnV2L7M",
        "colab": {}
      },
      "source": [
        "#Code to decode the one-hot encoding (the same explanation as above)\n",
        "\n",
        "test_maximums = []\n",
        "for i in range(0,results.shape[0]):\n",
        "  max = 0\n",
        "  column = 0\n",
        "  temp = 0\n",
        "  for j in range(0,results.shape[1]):\n",
        "    temp = results[i][j]\n",
        "    if temp > max: \n",
        "      max = temp\n",
        "      column = j\n",
        "  test_maximums.append(encoder.get_feature_names()[column]) "
      ],
      "execution_count": 71,
      "outputs": []
    },
    {
      "cell_type": "code",
      "metadata": {
        "id": "2AtdDz4EztEa",
        "colab_type": "code",
        "colab": {
          "base_uri": "https://localhost:8080/",
          "height": 34
        },
        "outputId": "d9c091b1-e3af-4116-bae6-38b9eaa0d478"
      },
      "source": [
        "np.shape(test_maximums)"
      ],
      "execution_count": 72,
      "outputs": [
        {
          "output_type": "execute_result",
          "data": {
            "text/plain": [
              "(50,)"
            ]
          },
          "metadata": {
            "tags": []
          },
          "execution_count": 72
        }
      ]
    },
    {
      "cell_type": "code",
      "metadata": {
        "id": "wqfN8ysXzBmz",
        "colab_type": "code",
        "colab": {
          "base_uri": "https://localhost:8080/",
          "height": 867
        },
        "outputId": "4d192b48-cac8-44f2-9742-f9d0548aa519"
      },
      "source": [
        "test_maximums"
      ],
      "execution_count": 73,
      "outputs": [
        {
          "output_type": "execute_result",
          "data": {
            "text/plain": [
              "['x0_4',\n",
              " 'x0_-4',\n",
              " 'x0_-4',\n",
              " 'x0_-4',\n",
              " 'x0_-28',\n",
              " 'x0_-88',\n",
              " 'x0_-4',\n",
              " 'x0_12',\n",
              " 'x0_4',\n",
              " 'x0_3079608476',\n",
              " 'x0_-12',\n",
              " 'x0_88',\n",
              " 'x0_-4',\n",
              " 'x0_-4',\n",
              " 'x0_-4',\n",
              " 'x0_4',\n",
              " 'x0_4',\n",
              " 'x0_-4',\n",
              " 'x0_-4',\n",
              " 'x0_-4',\n",
              " 'x0_-4',\n",
              " 'x0_-4',\n",
              " 'x0_-161745040',\n",
              " 'x0_12',\n",
              " 'x0_4',\n",
              " 'x0_192',\n",
              " 'x0_-59731',\n",
              " 'x0_-4',\n",
              " 'x0_12',\n",
              " 'x0_0',\n",
              " 'x0_4',\n",
              " 'x0_84',\n",
              " 'x0_4',\n",
              " 'x0_0',\n",
              " 'x0_4',\n",
              " 'x0_-4',\n",
              " 'x0_4',\n",
              " 'x0_4',\n",
              " 'x0_-4',\n",
              " 'x0_12',\n",
              " 'x0_0',\n",
              " 'x0_4',\n",
              " 'x0_-16',\n",
              " 'x0_-4',\n",
              " 'x0_-129970240',\n",
              " 'x0_-3079608560',\n",
              " 'x0_4',\n",
              " 'x0_32',\n",
              " 'x0_1263439',\n",
              " 'x0_88']"
            ]
          },
          "metadata": {
            "tags": []
          },
          "execution_count": 73
        }
      ]
    },
    {
      "cell_type": "code",
      "metadata": {
        "id": "_PW6DMlDw9Ho",
        "colab_type": "code",
        "colab": {}
      },
      "source": [
        "for i in range(0,results.shape[0]):\n",
        "  test_maximums[i] = test_maximums[i].replace('x0_', '')\n",
        "  test_maximums[i] = int(test_maximums[i])"
      ],
      "execution_count": 74,
      "outputs": []
    },
    {
      "cell_type": "code",
      "metadata": {
        "id": "D68LlCN_y3Pv",
        "colab_type": "code",
        "colab": {
          "base_uri": "https://localhost:8080/",
          "height": 187
        },
        "outputId": "8fef1479-a938-4b13-b99e-9e9428b59d20"
      },
      "source": [
        "test_maximums = np.array(test_maximums)\n",
        "test_maximums"
      ],
      "execution_count": 75,
      "outputs": [
        {
          "output_type": "execute_result",
          "data": {
            "text/plain": [
              "array([          4,          -4,          -4,          -4,         -28,\n",
              "               -88,          -4,          12,           4,  3079608476,\n",
              "               -12,          88,          -4,          -4,          -4,\n",
              "                 4,           4,          -4,          -4,          -4,\n",
              "                -4,          -4,  -161745040,          12,           4,\n",
              "               192,      -59731,          -4,          12,           0,\n",
              "                 4,          84,           4,           0,           4,\n",
              "                -4,           4,           4,          -4,          12,\n",
              "                 0,           4,         -16,          -4,  -129970240,\n",
              "       -3079608560,           4,          32,     1263439,          88])"
            ]
          },
          "metadata": {
            "tags": []
          },
          "execution_count": 75
        }
      ]
    },
    {
      "cell_type": "code",
      "metadata": {
        "id": "QPFDCZk_wWZb",
        "colab_type": "code",
        "colab": {}
      },
      "source": [
        "#Code to reverse the differences\n",
        "\n",
        "for i in range(0,len(test_maximums)-1):\n",
        "  if i == 0:\n",
        "    test_maximums[0] = test_res[1000] - test_maximums[0]\n",
        "  else:\n",
        "    test_maximums[i] =  test_res[i * 999 +1] - test_maximums[i]\n",
        "  "
      ],
      "execution_count": 76,
      "outputs": []
    },
    {
      "cell_type": "code",
      "metadata": {
        "id": "6VEs1qjZ1S18",
        "colab_type": "code",
        "colab": {
          "base_uri": "https://localhost:8080/",
          "height": 187
        },
        "outputId": "09b4a0de-73c8-4db7-820f-f83ce73a7011"
      },
      "source": [
        "#The last value is a bit random because the difference was chosen as -4 (we couldn't find a way to predict the last number because the difference was not known)\n",
        "\n",
        "test_maximums"
      ],
      "execution_count": 77,
      "outputs": [
        {
          "output_type": "execute_result",
          "data": {
            "text/plain": [
              "array([3216124324, 3216124332,  136547928,  136442128,  136616937,\n",
              "       3216124056, 3216122228, 3216124332, 3216124312,  136515552,\n",
              "       3216124292, 3216123348,  136509616, 3216124324, 3216124244,\n",
              "       3216124300,  136509460, 3216124196, 3216124352,  136509616,\n",
              "       3216124276, 3216124204, 3377869336, 3216123976, 3216124528,\n",
              "       3216124124, 3216184075,  136510006, 3216123976, 3216124244,\n",
              "       3216124020, 3216124200,  136509608, 3216124268, 3216124308,\n",
              "       3216124024,  136442448, 3216124324, 3216124188, 3216123960,\n",
              "       3216122264, 3216123940, 3216122268, 3216124336, 3346094560,\n",
              "       6295732596,  136623460, 3216123472, 3214860597,         88])"
            ]
          },
          "metadata": {
            "tags": []
          },
          "execution_count": 77
        }
      ]
    },
    {
      "cell_type": "code",
      "metadata": {
        "id": "oKOC14XDCiW3",
        "colab_type": "code",
        "colab": {
          "base_uri": "https://localhost:8080/",
          "height": 867
        },
        "outputId": "02575f87-b9e7-48c4-f7fe-bb52fcb67e61"
      },
      "source": [
        "#Code to turn it into hex from int\n",
        "\n",
        "end_results = []\n",
        "for i in range(0,len(test_maximums)):\n",
        "  end_array = hex(test_maximums[i])\n",
        "  end_results.append(end_array)\n",
        "\n",
        "end_results"
      ],
      "execution_count": 78,
      "outputs": [
        {
          "output_type": "execute_result",
          "data": {
            "text/plain": [
              "['0xbfb229a4',\n",
              " '0xbfb229ac',\n",
              " '0x8238e58',\n",
              " '0x821f110',\n",
              " '0x8249be9',\n",
              " '0xbfb22898',\n",
              " '0xbfb22174',\n",
              " '0xbfb229ac',\n",
              " '0xbfb22998',\n",
              " '0x8230fe0',\n",
              " '0xbfb22984',\n",
              " '0xbfb225d4',\n",
              " '0x822f8b0',\n",
              " '0xbfb229a4',\n",
              " '0xbfb22954',\n",
              " '0xbfb2298c',\n",
              " '0x822f814',\n",
              " '0xbfb22924',\n",
              " '0xbfb229c0',\n",
              " '0x822f8b0',\n",
              " '0xbfb22974',\n",
              " '0xbfb2292c',\n",
              " '0xc9563218',\n",
              " '0xbfb22848',\n",
              " '0xbfb22a70',\n",
              " '0xbfb228dc',\n",
              " '0xbfb3130b',\n",
              " '0x822fa36',\n",
              " '0xbfb22848',\n",
              " '0xbfb22954',\n",
              " '0xbfb22874',\n",
              " '0xbfb22928',\n",
              " '0x822f8a8',\n",
              " '0xbfb2296c',\n",
              " '0xbfb22994',\n",
              " '0xbfb22878',\n",
              " '0x821f250',\n",
              " '0xbfb229a4',\n",
              " '0xbfb2291c',\n",
              " '0xbfb22838',\n",
              " '0xbfb22198',\n",
              " '0xbfb22824',\n",
              " '0xbfb2219c',\n",
              " '0xbfb229b0',\n",
              " '0xc77159e0',\n",
              " '0x177414174',\n",
              " '0x824b564',\n",
              " '0xbfb22650',\n",
              " '0xbf9ee135',\n",
              " '0x58']"
            ]
          },
          "metadata": {
            "tags": []
          },
          "execution_count": 78
        }
      ]
    }
  ]
}
